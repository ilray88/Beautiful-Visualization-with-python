{
 "cells": [
  {
   "cell_type": "code",
   "execution_count": 1,
   "metadata": {
    "collapsed": true
   },
   "outputs": [
    {
     "data": {
      "text/plain": "'\\nCreated on Mon Mar 25 11:38:17 2019\\n\\n@author: Jie Zhang，微信公众号【EasyShu】，本代码源自《Python数据可视化之美》\\n'"
     },
     "execution_count": 1,
     "metadata": {},
     "output_type": "execute_result"
    }
   ],
   "source": [
    "# -*- coding: utf-8 -*-\n",
    "\"\"\"\n",
    "Created on Mon Mar 25 11:38:17 2019\n",
    "\n",
    "@author: Jie Zhang，微信公众号【EasyShu】，本代码源自《Python数据可视化之美》\n",
    "\"\"\""
   ]
  },
  {
   "cell_type": "code",
   "execution_count": 4,
   "outputs": [
    {
     "ename": "TypeError",
     "evalue": "astype() got an unexpected keyword argument 'categories'",
     "output_type": "error",
     "traceback": [
      "\u001B[1;31m---------------------------------------------------------------------------\u001B[0m",
      "\u001B[1;31mTypeError\u001B[0m                                 Traceback (most recent call last)",
      "\u001B[1;32m~\\AppData\\Local\\Temp/ipykernel_5660/1485962095.py\u001B[0m in \u001B[0;36m<module>\u001B[1;34m\u001B[0m\n\u001B[0;32m     26\u001B[0m \u001B[1;33m\u001B[0m\u001B[0m\n\u001B[0;32m     27\u001B[0m \u001B[0mdf\u001B[0m\u001B[1;33m=\u001B[0m\u001B[0mpd\u001B[0m\u001B[1;33m.\u001B[0m\u001B[0mread_csv\u001B[0m\u001B[1;33m(\u001B[0m\u001B[1;34m'Distribution_Data.csv'\u001B[0m\u001B[1;33m)\u001B[0m\u001B[1;33m\u001B[0m\u001B[1;33m\u001B[0m\u001B[0m\n\u001B[1;32m---> 28\u001B[1;33m \u001B[0mdf\u001B[0m\u001B[1;33m[\u001B[0m\u001B[1;34m'class'\u001B[0m\u001B[1;33m]\u001B[0m\u001B[1;33m=\u001B[0m\u001B[0mdf\u001B[0m\u001B[1;33m[\u001B[0m\u001B[1;34m'class'\u001B[0m\u001B[1;33m]\u001B[0m\u001B[1;33m.\u001B[0m\u001B[0mastype\u001B[0m\u001B[1;33m(\u001B[0m\u001B[1;34m\"category\"\u001B[0m\u001B[1;33m,\u001B[0m\u001B[0mcategories\u001B[0m\u001B[1;33m=\u001B[0m \u001B[1;33m[\u001B[0m\u001B[1;34m\"n\"\u001B[0m\u001B[1;33m,\u001B[0m \u001B[1;34m\"s\"\u001B[0m\u001B[1;33m,\u001B[0m \u001B[1;34m\"k\"\u001B[0m\u001B[1;33m,\u001B[0m \u001B[1;34m\"mm\"\u001B[0m\u001B[1;33m]\u001B[0m\u001B[1;33m,\u001B[0m\u001B[0mordered\u001B[0m\u001B[1;33m=\u001B[0m\u001B[1;32mTrue\u001B[0m\u001B[1;33m)\u001B[0m\u001B[1;33m\u001B[0m\u001B[1;33m\u001B[0m\u001B[0m\n\u001B[0m\u001B[0;32m     29\u001B[0m \u001B[1;33m\u001B[0m\u001B[0m\n\u001B[0;32m     30\u001B[0m \u001B[0mdf_all\u001B[0m\u001B[1;33m=\u001B[0m\u001B[0mpd\u001B[0m\u001B[1;33m.\u001B[0m\u001B[0mDataFrame\u001B[0m\u001B[1;33m(\u001B[0m\u001B[0mcolumns\u001B[0m\u001B[1;33m=\u001B[0m\u001B[1;33m[\u001B[0m\u001B[1;34m'x'\u001B[0m\u001B[1;33m,\u001B[0m\u001B[1;34m'count'\u001B[0m\u001B[1;33m,\u001B[0m\u001B[1;34m'group'\u001B[0m\u001B[1;33m]\u001B[0m\u001B[1;33m)\u001B[0m\u001B[1;33m\u001B[0m\u001B[1;33m\u001B[0m\u001B[0m\n",
      "\u001B[1;31mTypeError\u001B[0m: astype() got an unexpected keyword argument 'categories'"
     ]
    }
   ],
   "source": [
    "import pandas as pd\n",
    "import numpy as np\n",
    "from plotnine import *\n",
    "#from plotnine.data import *\n",
    "import matplotlib.pyplot as plt\n",
    "import matplotlib\n",
    "#plt.rc('font',family='Times New Roman')\n",
    "matplotlib.rcParams['font.family'] = 'Times New Roman'\n",
    "\n",
    "\n",
    "def Hist_point(x,bin_width=0.3):\n",
    "    division= np.arange(x.min(),x.max(),bin_width)\n",
    "    hist, bin_edges = np.histogram(x, bins=division, density=False)\n",
    "\n",
    "    Hist_x=[]\n",
    "    Hist_y=[]\n",
    "\n",
    "    for i in range(0,len(bin_edges)-1):\n",
    "        for j in range(1,hist[i]+1):\n",
    "            Hist_x.append((bin_edges[i]+bin_edges[i+1])/2)\n",
    "            Hist_y.append(j)\n",
    "\n",
    "    df=pd.DataFrame(dict(x=Hist_x,count=Hist_y))\n",
    "\n",
    "    return df\n",
    "\n",
    "df=pd.read_csv('Distribution_Data.csv')\n",
    "df['class']=df['class'].astype(\"category\",categories= [\"n\", \"s\", \"k\", \"mm\"],ordered=True)\n",
    "\n",
    "df_all=pd.DataFrame(columns=['x','count','group'])\n",
    "mean=[]\n",
    "median=[]\n",
    "group=[\"n\", \"s\", \"k\"]\n",
    "for i in group:\n",
    "    value=df.loc[df['class']==i,'value'].values#np.random.normal(loc=5,scale=1,size=150)\n",
    "    df_temp=Hist_point(value)\n",
    "    df_temp['group']=i\n",
    "    df_all=df_all.append(df_temp)\n",
    "\n",
    "    mean.append(np.mean(value))\n",
    "    median.append(np.median(value))\n",
    "\n",
    "df_line=pd.DataFrame(dict(mean=mean,median=median,group=group))\n",
    "df_all['count']=df_all['count'].astype(int)\n",
    "\n",
    "base_plot=(ggplot()\n",
    "+geom_point(df_all,aes(x='x',y='count'),shape='o',size=5,color='k',fill='w')\n",
    "#+geom_density(df0,aes(x='x'),position = \"stack\",size=1,color='k',fill='none')\n",
    "+geom_vline(df_line,aes(xintercept=mean),colour='r',size=2)\n",
    "+geom_vline(df_line,aes(xintercept=median),colour='b',size=2)\n",
    "+scale_x_continuous(breaks=np.arange(0,8,1))\n",
    "+facet_wrap('~group')\n",
    "+theme_xkcd()\n",
    "+ theme(#panel_background=element_rect(color=\"none\"),\n",
    "        strip_background=element_blank(),\n",
    "        panel_border=element_line(color=\"none\"),\n",
    "        axis_line_x=element_line(color=\"k\"),\n",
    "        text=element_text(size=12,colour = \"black\"),\n",
    "        aspect_ratio =0.8,\n",
    "        dpi=100,\n",
    "        figure_size=(15,15))\n",
    ")\n",
    "\n",
    "print(base_plot)\n",
    "base_plot.save('简单统计函数.pdf')"
   ],
   "metadata": {
    "collapsed": false,
    "pycharm": {
     "name": "#%%\n"
    }
   }
  },
  {
   "cell_type": "code",
   "execution_count": null,
   "outputs": [],
   "source": [],
   "metadata": {
    "collapsed": false,
    "pycharm": {
     "name": "#%%\n"
    }
   }
  }
 ],
 "metadata": {
  "kernelspec": {
   "name": "pycharm-f616e91f",
   "language": "python",
   "display_name": "PyCharm (《Python数据可视化之美》)"
  },
  "language_info": {
   "codemirror_mode": {
    "name": "ipython",
    "version": 2
   },
   "file_extension": ".py",
   "mimetype": "text/x-python",
   "name": "python",
   "nbconvert_exporter": "python",
   "pygments_lexer": "ipython2",
   "version": "2.7.6"
  }
 },
 "nbformat": 4,
 "nbformat_minor": 0
}