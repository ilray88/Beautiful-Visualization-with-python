{
 "cells": [
  {
   "cell_type": "code",
   "execution_count": 1,
   "metadata": {
    "collapsed": true
   },
   "outputs": [
    {
     "data": {
      "text/plain": "<AxesSubplot:>"
     },
     "execution_count": 1,
     "metadata": {},
     "output_type": "execute_result"
    },
    {
     "data": {
      "text/plain": "<Figure size 432x288 with 1 Axes>",
      "image/png": "[encoded data removed]"
     },
     "metadata": {
      "needs_background": "light"
     },
     "output_type": "display_data"
    }
   ],
   "source": [
    "# -*- coding: utf-8 -*-\n",
    "\"\"\"\n",
    "Created on Tue Mar 26 16:55:44 2019\n",
    "\n",
    "@author: Jie Zhang，微信公众号【EasyShu】，本代码源自《Python数据可视化之美》\n",
    "\"\"\"\n",
    "from matplotlib import pyplot as plt\n",
    "\n",
    "#----------------------------Method 1------------------------------------------------------------\n",
    "# pyplot方式\n",
    "plt.figure()\n",
    "#X = np.arange(0.01, 10, 0.01)\n",
    "# 分成2*2，占用第1个子图\n",
    "plt.subplot(221,facecolor='#2B9ACE')\n",
    "#plt.plot(X, np.sin(X), 'r-')"
   ]
  },
  {
   "cell_type": "code",
   "execution_count": 2,
   "outputs": [
    {
     "data": {
      "text/plain": "<AxesSubplot:>"
     },
     "execution_count": 2,
     "metadata": {},
     "output_type": "execute_result"
    },
    {
     "data": {
      "text/plain": "<Figure size 432x288 with 1 Axes>",
      "image/png": "[encoded data removed]"
     },
     "metadata": {
      "needs_background": "light"
     },
     "output_type": "display_data"
    }
   ],
   "source": [
    "# 分成2*2，占用第2个子图\n",
    "plt.subplot(222,facecolor='#89BD54')\n",
    "#plt.plot(X, np.cos(X), 'g-')"
   ],
   "metadata": {
    "collapsed": false,
    "pycharm": {
     "name": "#%%\n"
    }
   }
  },
  {
   "cell_type": "code",
   "execution_count": 3,
   "outputs": [
    {
     "data": {
      "text/plain": "<Figure size 432x288 with 1 Axes>",
      "image/png": "[encoded data removed]"
     },
     "metadata": {
      "needs_background": "light"
     },
     "output_type": "display_data"
    }
   ],
   "source": [
    "# 分成2*1，占用第2个子图(即占用2*2第3、4子图)\n",
    "plt.subplot(212,facecolor='#E6E243')\n",
    "#plt.bar(np.arange(6), np.array([2, 4, 1, 6, 3, 8]))\n",
    "#plt.savefig('add_subplot1.pdf',format='pdf')\n",
    "#plt.suptitle('pyplot')\n",
    "plt.show()"
   ],
   "metadata": {
    "collapsed": false,
    "pycharm": {
     "name": "#%%\n"
    }
   }
  },
  {
   "cell_type": "code",
   "execution_count": 4,
   "outputs": [
    {
     "data": {
      "text/plain": "<Figure size 432x288 with 1 Axes>",
      "image/png": "[encoded data removed]"
     },
     "metadata": {
      "needs_background": "light"
     },
     "output_type": "display_data"
    }
   ],
   "source": [
    "#-----------------------------Method 2-----------------------------------------------------------\n",
    "# axes方式一：add_subplot\n",
    "# 参数同plt.subplot一致\n",
    "fig = plt.figure()\n",
    "ax1 = fig.add_subplot(221,facecolor='#2B9ACE')\n",
    "#ax1.plot(X, np.sin(X), 'r-')"
   ],
   "metadata": {
    "collapsed": false,
    "pycharm": {
     "name": "#%%\n"
    }
   }
  },
  {
   "cell_type": "code",
   "execution_count": 5,
   "outputs": [],
   "source": [
    "ax2 = fig.add_subplot(222,facecolor='#89BD54')\n",
    "#ax2.plot(X, np.cos(X), 'g-')"
   ],
   "metadata": {
    "collapsed": false,
    "pycharm": {
     "name": "#%%\n"
    }
   }
  },
  {
   "cell_type": "code",
   "execution_count": 6,
   "outputs": [],
   "source": [
    "ax3 = fig.add_subplot(212,facecolor='#E6E243')\n",
    "#ax3.bar(np.arange(6), np.array([2, 4, 1, 6, 3, 8]))"
   ],
   "metadata": {
    "collapsed": false,
    "pycharm": {
     "name": "#%%\n"
    }
   }
  },
  {
   "cell_type": "code",
   "execution_count": 7,
   "outputs": [],
   "source": [
    "#fig.suptitle('add_subplot')\n",
    "#plt.savefig('add_subplot2.pdf',format='pdf')\n",
    "plt.show()"
   ],
   "metadata": {
    "collapsed": false,
    "pycharm": {
     "name": "#%%\n"
    }
   }
  },
  {
   "cell_type": "code",
   "execution_count": 8,
   "outputs": [
    {
     "data": {
      "text/plain": "<Figure size 576x432 with 4 Axes>",
      "image/png": "[encoded data removed]"
     },
     "metadata": {
      "needs_background": "light"
     },
     "output_type": "display_data"
    }
   ],
   "source": [
    "#-------------------------------Method 3---------------------------------------------------------\n",
    "# axes方式二：subplots\n",
    "# 相比add_subplot，函数调用比较简洁，但是不能自定义子图布局\n",
    "fig, ax = plt.subplots(ncols=2, nrows=2, figsize=(8, 6))\n",
    "#X = np.arange(0.01, 10, 0.01)\n",
    "#ax[0, 0].plot(X, 2 * X - 1)\n",
    "ax[0, 0].set_facecolor(\"#8F4B99\")"
   ],
   "metadata": {
    "collapsed": false,
    "pycharm": {
     "name": "#%%\n"
    }
   }
  },
  {
   "cell_type": "code",
   "execution_count": 9,
   "outputs": [],
   "source": [
    "#ax[0, 1].plot(X, np.log(X))\n",
    "ax[0, 1].set_facecolor(\"#89BD54\")"
   ],
   "metadata": {
    "collapsed": false,
    "pycharm": {
     "name": "#%%\n"
    }
   }
  },
  {
   "cell_type": "code",
   "execution_count": 10,
   "outputs": [],
   "source": [
    "#ax[1, 0].plot(X, np.exp(X))\n",
    "ax[1, 0].set_facecolor(\"#E6E243\")"
   ],
   "metadata": {
    "collapsed": false,
    "pycharm": {
     "name": "#%%\n"
    }
   }
  },
  {
   "cell_type": "code",
   "execution_count": 11,
   "outputs": [],
   "source": [
    "#ax[1, 1].plot(X, np.sin(X))\n",
    "ax[1, 1].set_facecolor(\"#2B9ACE\")"
   ],
   "metadata": {
    "collapsed": false,
    "pycharm": {
     "name": "#%%\n"
    }
   }
  },
  {
   "cell_type": "code",
   "execution_count": 12,
   "outputs": [],
   "source": [
    "#plt.savefig('add_subplot3.pdf',format='pdf')\n",
    "#fig.suptitle('subplots')\n",
    "plt.show()"
   ],
   "metadata": {
    "collapsed": false,
    "pycharm": {
     "name": "#%%\n"
    }
   }
  },
  {
   "cell_type": "code",
   "execution_count": 13,
   "outputs": [
    {
     "data": {
      "text/plain": "<Figure size 432x288 with 3 Axes>",
      "image/png": "[encoded data removed]"
     },
     "metadata": {
      "needs_background": "light"
     },
     "output_type": "display_data"
    }
   ],
   "source": [
    "#----------------------------Method 4-----------------------------------------------------------------\n",
    "\n",
    "plt.subplot2grid((2,3),(0,0),colspan=2,facecolor='#2B9ACE')\n",
    "plt.subplot2grid((2,3),(0,2),facecolor='#E6E243')\n",
    "plt.subplot2grid((2,3),(1,0),colspan=3,facecolor='#89BD54')\n",
    "#plt.savefig('add_subplot4.pdf',format='pdf')\n",
    "plt.show()"
   ],
   "metadata": {
    "collapsed": false,
    "pycharm": {
     "name": "#%%\n"
    }
   }
  },
  {
   "cell_type": "code",
   "execution_count": 14,
   "outputs": [
    {
     "data": {
      "text/plain": "<Figure size 432x288 with 3 Axes>",
      "image/png": "[encoded data removed]"
     },
     "metadata": {
      "needs_background": "light"
     },
     "output_type": "display_data"
    }
   ],
   "source": [
    "#---------------------------Method 5-------------------------------------------------\n",
    "\n",
    "#from pylab import *\n",
    "import matplotlib.gridspec as gridspec\n",
    "\n",
    "G = gridspec.GridSpec(2, 3)\n",
    "\n",
    "axes_1 = plt.subplot(G[0, 0:2],facecolor='#2B9ACE')\n",
    "#xticks([]), yticks([])\n",
    "#text(0.5,0.5, 'Axes 1',ha='center',va='center',size=24,alpha=.5)\n",
    "\n",
    "axes_2 = plt.subplot(G[0,2],facecolor='#E6E243')\n",
    "#xticks([]), yticks([])\n",
    "#text(0.5,0.5, 'Axes 2',ha='center',va='center',size=24,alpha=.5)\n",
    "\n",
    "axes_3 = plt.subplot(G[1, :],facecolor='#89BD54')\n",
    "#xticks([]), yticks([])\n",
    "#text(0.5,0.5, 'Axes 3',ha='center',va='center',size=24,alpha=.5)\n",
    "\n",
    "#plt.savefig(\"add_subplot5.pdf\")\n",
    "#plt.savefig('../figures/gridspec.png', dpi=64)\n",
    "plt.show()"
   ],
   "metadata": {
    "collapsed": false,
    "pycharm": {
     "name": "#%%\n"
    }
   }
  },
  {
   "cell_type": "code",
   "execution_count": 15,
   "outputs": [
    {
     "data": {
      "text/plain": "<Figure size 432x288 with 2 Axes>",
      "image/png": "[encoded data removed]"
     },
     "metadata": {
      "needs_background": "light"
     },
     "output_type": "display_data"
    }
   ],
   "source": [
    "#-----------------------------Method 6-------------------------------------------------\n",
    "plt.axes([0.1,0.1,.8,.8],facecolor='#E6E243')\n",
    "#plt.xticks([]), plt.yticks([])\n",
    "#plt.text(0.6,0.6, 'axes([0.1,0.1,.8,.8])',ha='center',va='center',size=20,alpha=.5)\n",
    "\n",
    "plt.axes([0.2,0.2,.3,.3],facecolor='#2B9ACE')\n",
    "#plt.xticks([]), plt.yticks([])\n",
    "#plt.text(0.5,0.5, 'axes([0.2,0.2,.3,.3])',ha='center',va='center',size=16,alpha=.5)\n",
    "#plt.savefig(\"add_subplot6.pdf\")\n",
    "#plt.plt.savefig(\"../figures/axes.png\",dpi=64)\n",
    "plt.show()"
   ],
   "metadata": {
    "collapsed": false,
    "pycharm": {
     "name": "#%%\n"
    }
   }
  },
  {
   "cell_type": "code",
   "execution_count": 16,
   "outputs": [
    {
     "data": {
      "text/plain": "<Figure size 432x288 with 4 Axes>",
      "image/png": "[encoded data removed]"
     },
     "metadata": {
      "needs_background": "light"
     },
     "output_type": "display_data"
    }
   ],
   "source": [
    "#------------------------------Method 7-----------------------------------------\n",
    "plt.axes([0.1,0.1,.5,.5],facecolor='#8F4B99')\n",
    "#plt.xticks([]), plt.yticks([])\n",
    "#plt.text(0.1,0.1, 'axes([0.1,0.1,.8,.8])',ha='left',va='center',size=16,alpha=.5)\n",
    "\n",
    "plt.axes([0.2,0.2,.5,.5],facecolor='#89BD54')\n",
    "#plt.xticks([]), plt.yticks([])\n",
    "#plt.text(0.1,0.1, 'axes([0.2,0.2,.5,.5])',ha='left',va='center',size=16,alpha=.5)\n",
    "\n",
    "plt.axes([0.3,0.3,.5,.5],facecolor='#E6E243')\n",
    "#plt.xticks([]), plt.yticks([])\n",
    "#plt.text(0.1,0.1, 'axes([0.3,0.3,.5,.5])',ha='left',va='center',size=16,alpha=.5)\n",
    "\n",
    "plt.axes([0.4,0.4,.5,.5],facecolor='#2B9ACE')\n",
    "#plt.xticks([]), plt.yticks([])\n",
    "#plt.text(0.1,0.1, 'axes([0.4,0.4,.5,.5])',ha='left',va='center',size=16,alpha=.5)\n",
    "\n",
    "#plt.savefig(\"add_subplot7.pdf\")\n",
    "plt.show()\n"
   ],
   "metadata": {
    "collapsed": false,
    "pycharm": {
     "name": "#%%\n"
    }
   }
  }
 ],
 "metadata": {
  "kernelspec": {
   "display_name": "Python 3",
   "language": "python",
   "name": "python3"
  },
  "language_info": {
   "codemirror_mode": {
    "name": "ipython",
    "version": 2
   },
   "file_extension": ".py",
   "mimetype": "text/x-python",
   "name": "python",
   "nbconvert_exporter": "python",
   "pygments_lexer": "ipython2",
   "version": "2.7.6"
  }
 },
 "nbformat": 4,
 "nbformat_minor": 0
}