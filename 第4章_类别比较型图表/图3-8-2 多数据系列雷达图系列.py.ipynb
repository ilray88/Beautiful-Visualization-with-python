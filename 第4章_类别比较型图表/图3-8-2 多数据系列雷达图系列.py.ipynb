{
 "cells": [
  {
   "cell_type": "code",
   "execution_count": null,
   "metadata": {
    "collapsed": true
   },
   "outputs": [],
   "source": [
    "# -*- coding: utf-8 -*-\n",
    "\"\"\"\n",
    "Created on Fri Feb 22 18:22:40 2019\n",
    "\n",
    "@author: Jie Zhang，微信公众号【EasyShu】，本代码源自《Python数据可视化之美》\n",
    "\"\"\"\n",
    "\n",
    "# Libraries\n",
    "import numpy as np\n",
    "import matplotlib.pyplot as plt\n",
    "import pandas as pd\n",
    "from math import pi\n",
    "from matplotlib.pyplot import figure, show, rc\n",
    "plt.rcParams[\"patch.force_edgecolor\"] = True\n",
    "\n",
    "\n",
    "df = pd.DataFrame(dict(categories=['var1', 'var2', 'var3', 'var4', 'var5'],\n",
    "                       group_A=[38.0, 29, 8, 7, 28],\n",
    "                       group_B=[1.5, 10, 39, 31, 15]))\n",
    "N = df.shape[0]\n",
    "\n",
    "angles = [n / float(N) * 2 * pi for n in range(N)]\n",
    "angles += angles[:1]\n",
    "\n",
    "fig = figure(figsize=(4,4),dpi =90)\n",
    "ax = fig.add_axes([0.1, 0.1, 0.6, 0.6], polar=True)\n",
    "\n",
    "ax.set_theta_offset(pi / 2)\n",
    "ax.set_theta_direction(-1)\n",
    "ax.set_rlabel_position(0)\n",
    "\n",
    "plt.xticks(angles[:-1], df['categories'], color=\"black\", size=12)\n",
    "plt.ylim(0,45)\n",
    "plt.yticks(np.arange(10,50,10),color=\"black\", size=12,verticalalignment='center',horizontalalignment='right')\n",
    "\n",
    "plt.grid(which='major',axis =\"x\", linestyle='-', linewidth='0.5', color='gray',alpha=0.5)\n",
    "plt.grid(which='major',axis =\"y\", linestyle='-', linewidth='0.5', color='gray',alpha=0.5)\n",
    "\n",
    "values=df['group_A'].values.flatten().tolist()\n",
    "values += values[:1]\n",
    "ax.fill(angles, values, '#7FBC41', alpha=0.3)\n",
    "ax.plot(angles, values, marker='o', markerfacecolor='#7FBC41', markersize=8, color='k', linewidth=0.25,label=\"group A\")\n",
    "\n",
    "values=df['group_B'].values.flatten().tolist()\n",
    "values += values[:1]\n",
    "ax.fill(angles, values, '#C51B7D', alpha=0.3)\n",
    "ax.plot(angles, values, marker='o', markerfacecolor='#C51B7D', markersize=8, color='k', linewidth=0.25,label=\"group B\")\n",
    "\n",
    "plt.legend(loc=\"center\",bbox_to_anchor=(1.25, 0, 0, 1))\n",
    "\n",
    "#fig.savefig(\"雷达图2.pdf\")"
   ]
  }
 ],
 "metadata": {
  "kernelspec": {
   "display_name": "Python 3",
   "language": "python",
   "name": "python3"
  },
  "language_info": {
   "codemirror_mode": {
    "name": "ipython",
    "version": 2
   },
   "file_extension": ".py",
   "mimetype": "text/x-python",
   "name": "python",
   "nbconvert_exporter": "python",
   "pygments_lexer": "ipython2",
   "version": "2.7.6"
  }
 },
 "nbformat": 4,
 "nbformat_minor": 0
}