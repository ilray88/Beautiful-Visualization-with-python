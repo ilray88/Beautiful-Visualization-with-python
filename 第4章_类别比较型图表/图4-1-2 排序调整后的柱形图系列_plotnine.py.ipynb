{
 "cells": [
  {
   "cell_type": "code",
   "execution_count": 1,
   "metadata": {
    "collapsed": true
   },
   "outputs": [
    {
     "data": {
      "text/plain": "<Figure size 325x376.177 with 1 Axes>",
      "image/png": "[encoded data removed]"
     },
     "metadata": {},
     "output_type": "display_data"
    },
    {
     "name": "stdout",
     "output_type": "stream",
     "text": [
      "\n"
     ]
    },
    {
     "name": "stderr",
     "output_type": "stream",
     "text": [
      "D:\\0ilraypan\\python_work\\env\\beautiful\\lib\\site-packages\\matplotlib\\backends\\backend_agg.py:240: RuntimeWarning: Glyph 13 missing from current font.\n",
      "D:\\0ilraypan\\python_work\\env\\beautiful\\lib\\site-packages\\matplotlib\\backends\\backend_agg.py:203: RuntimeWarning: Glyph 13 missing from current font.\n"
     ]
    },
    {
     "data": {
      "text/plain": "<Figure size 325x376.177 with 1 Axes>",
      "image/png": "[encoded data removed]"
     },
     "metadata": {},
     "output_type": "display_data"
    },
    {
     "name": "stdout",
     "output_type": "stream",
     "text": [
      "\n"
     ]
    },
    {
     "ename": "TypeError",
     "evalue": "astype() got an unexpected keyword argument 'categories'",
     "output_type": "error",
     "traceback": [
      "\u001B[1;31m---------------------------------------------------------------------------\u001B[0m",
      "\u001B[1;31mTypeError\u001B[0m                                 Traceback (most recent call last)",
      "\u001B[1;32m~\\AppData\\Local\\Temp/ipykernel_14704/3494779625.py\u001B[0m in \u001B[0;36m<module>\u001B[1;34m\u001B[0m\n\u001B[0;32m     75\u001B[0m \u001B[0mmydata\u001B[0m\u001B[1;33m=\u001B[0m\u001B[0mpd\u001B[0m\u001B[1;33m.\u001B[0m\u001B[0mmelt\u001B[0m\u001B[1;33m(\u001B[0m\u001B[0mdf\u001B[0m\u001B[1;33m,\u001B[0m\u001B[0mid_vars\u001B[0m\u001B[1;33m=\u001B[0m\u001B[1;34m'Clarity'\u001B[0m\u001B[1;33m)\u001B[0m\u001B[1;33m\u001B[0m\u001B[1;33m\u001B[0m\u001B[0m\n\u001B[0;32m     76\u001B[0m \u001B[1;33m\u001B[0m\u001B[0m\n\u001B[1;32m---> 77\u001B[1;33m \u001B[0mmydata\u001B[0m\u001B[1;33m[\u001B[0m\u001B[1;34m'variable'\u001B[0m\u001B[1;33m]\u001B[0m\u001B[1;33m=\u001B[0m\u001B[0mmydata\u001B[0m\u001B[1;33m[\u001B[0m\u001B[1;34m'variable'\u001B[0m\u001B[1;33m]\u001B[0m\u001B[1;33m.\u001B[0m\u001B[0mastype\u001B[0m\u001B[1;33m(\u001B[0m\u001B[1;34m\"category\"\u001B[0m\u001B[1;33m,\u001B[0m\u001B[0mcategories\u001B[0m\u001B[1;33m=\u001B[0m \u001B[0mSum_df\u001B[0m\u001B[1;33m.\u001B[0m\u001B[0mindex\u001B[0m\u001B[1;33m,\u001B[0m\u001B[0mordered\u001B[0m\u001B[1;33m=\u001B[0m\u001B[1;32mTrue\u001B[0m\u001B[1;33m)\u001B[0m\u001B[1;33m\u001B[0m\u001B[1;33m\u001B[0m\u001B[0m\n\u001B[0m\u001B[0;32m     78\u001B[0m \u001B[0mmydata\u001B[0m\u001B[1;33m[\u001B[0m\u001B[1;34m'Clarity'\u001B[0m\u001B[1;33m]\u001B[0m\u001B[1;33m=\u001B[0m\u001B[0mmydata\u001B[0m\u001B[1;33m[\u001B[0m\u001B[1;34m'Clarity'\u001B[0m\u001B[1;33m]\u001B[0m\u001B[1;33m.\u001B[0m\u001B[0mastype\u001B[0m\u001B[1;33m(\u001B[0m\u001B[1;34m\"category\"\u001B[0m\u001B[1;33m,\u001B[0m\u001B[0mcategories\u001B[0m\u001B[1;33m=\u001B[0m \u001B[0mSing_df\u001B[0m\u001B[1;33m,\u001B[0m\u001B[0mordered\u001B[0m\u001B[1;33m=\u001B[0m\u001B[1;32mTrue\u001B[0m\u001B[1;33m)\u001B[0m\u001B[1;33m\u001B[0m\u001B[1;33m\u001B[0m\u001B[0m\n\u001B[0;32m     79\u001B[0m \u001B[1;33m\u001B[0m\u001B[0m\n",
      "\u001B[1;31mTypeError\u001B[0m: astype() got an unexpected keyword argument 'categories'"
     ]
    }
   ],
   "source": [
    "# -*- coding: utf-8 -*-\n",
    "\"\"\"\n",
    "Created on Mon Jun 18 11:13:35 2018\n",
    "\n",
    "@author: Jie Zhang，微信公众号【EasyShu】，本代码源自《Python数据可视化之美》\n",
    "\"\"\"\n",
    "\n",
    "import pandas as pd\n",
    "import numpy as np\n",
    "from plotnine import *\n",
    "#from plotnine.data import *\n",
    "#import matplotlib.pyplot as plt\n",
    "\n",
    "#-----------------------(a)单数剧系列柱形图--------------------------------------------\n",
    "mydata=pd.DataFrame({'Cut':[\"Fair\",\"Good\",\"Very Good\",\"Premium\",\"Ideal\"],\n",
    "                     'Price':[4300,3800,3950,4700,3500]})\n",
    "\n",
    "Sort_data=mydata.sort_values(by='Price', ascending=False)\n",
    "\n",
    "#Sort_data['Cut']=Sort_data['Cut'].astype(\"category\",categories=Sort_data['Cut'],ordered=True)\n",
    "\n",
    "Sort_data['Cut']=pd.Categorical(Sort_data['Cut'],ordered=True, categories=Sort_data['Cut'])\n",
    "\n",
    "base_plot=(ggplot(Sort_data,aes('Cut','Price'))\n",
    "+geom_bar(stat = \"identity\", width = 0.8,colour=\"black\",size=0.25,fill=\"#FC4E07\",alpha=1)\n",
    "+ylim(0, 6000)\n",
    "+theme(\n",
    "       axis_title=element_text(size=18,face=\"plain\",color=\"black\"),\n",
    "       axis_text = element_text(size=16,face=\"plain\",color=\"black\"),\n",
    "       aspect_ratio =1.15,\n",
    "       figure_size = (6.5, 6.5),\n",
    "       dpi = 50\n",
    "       )\n",
    ")\n",
    "print(base_plot)\n",
    "#base_plot.save('Bar_Plot.pdf')\n",
    "\n",
    "\n",
    "#------------------------(b)双数剧系列柱形图---------------------------------------------\n",
    "\n",
    "df=pd.read_csv('MultiColumn_Data.csv')\n",
    "df=df.sort_values(by='1996', ascending=False)\n",
    "mydata=pd.melt(df, id_vars='Catergory')\n",
    "\n",
    "mydata['Catergory']=pd.Categorical(mydata['Catergory'],ordered=True, categories=df['Catergory'])\n",
    "\n",
    "\n",
    "base_plot=(ggplot(mydata,aes(x='Catergory',y='value',fill='variable'))\n",
    "+geom_bar(stat=\"identity\", color=\"black\", position='dodge',width=0.7,size=0.25)\n",
    "+scale_fill_manual(values=[\"#00AFBB\", \"#FC4E07\", \"#E7B800\"])\n",
    "+ylim(0, 10)\n",
    "+theme(legend_title=element_text(size=18,face=\"plain\",color=\"black\"),\n",
    "       legend_text=element_text(size=16,face=\"plain\",color=\"black\"),\n",
    "       axis_title=element_text(size=18,face=\"plain\",color=\"black\"),\n",
    "       axis_text = element_text(size=16,face=\"plain\",color=\"black\"),\n",
    "       legend_background=element_blank(),\n",
    "       legend_position=(0.75,0.80),\n",
    "       aspect_ratio =1.15,\n",
    "       figure_size = (6.5, 6.5),\n",
    "       dpi = 50\n",
    "       )\n",
    ")\n",
    "print(base_plot)\n",
    "#base_plot.save('Bar_Plot2.pdf')\n",
    "\n",
    "#------------------------(c)堆积柱形图---------------------------------------------\n",
    "df=pd.read_csv('StackedColumn_Data.csv')\n",
    "\n",
    "Sum_df=df.iloc[:,1:].apply(lambda x: x.sum(), axis=0).sort_values(ascending=False)\n",
    "\n",
    "meanRow_df=df.iloc[:,1:].apply(lambda x: x.mean(), axis=1)\n",
    "\n",
    "Sing_df=df['Clarity'][meanRow_df.sort_values(ascending=True).index]\n",
    "\n",
    "mydata=pd.melt(df,id_vars='Clarity')\n",
    "\n",
    "mydata['variable']=mydata['variable'].astype(\"category\",categories= Sum_df.index,ordered=True)\n",
    "mydata['Clarity']=mydata['Clarity'].astype(\"category\",categories= Sing_df,ordered=True)\n",
    "\n",
    "base_plot=(ggplot(mydata,aes(x='variable',y='value',fill='Clarity'))\n",
    "+geom_bar(stat=\"identity\", color=\"black\", position='stack',width=0.7,size=0.25)\n",
    "+scale_fill_brewer(palette=\"YlOrRd\")\n",
    "+ylim(0, 15000)\n",
    "+theme(\n",
    "       legend_title=element_text(size=18,face=\"plain\",color=\"black\"),\n",
    "       legend_text=element_text(size=16,face=\"plain\",color=\"black\"),\n",
    "       axis_title=element_text(size=18,face=\"plain\",color=\"black\"),\n",
    "       axis_text = element_text(size=16,face=\"plain\",color=\"black\"),\n",
    "       legend_background=element_blank(),\n",
    "       legend_position=(0.75,0.75),\n",
    "       aspect_ratio =1.15,\n",
    "       figure_size = (6.5, 6.5),\n",
    "       dpi = 50\n",
    "       )\n",
    ")\n",
    "print(base_plot)\n",
    "#base_plot.save('Bar_Plot3.pdf')\n",
    "\n",
    "#---------------------------------(d)百分比堆积柱形图------------------------------------------------\n",
    "df=pd.read_csv('StackedColumn_Data.csv')\n",
    "\n",
    "SumCol_df=df.iloc[:,1:].apply(lambda x: x.sum(), axis=0)\n",
    "\n",
    "df.iloc[:,1:]=df.iloc[:,1:].apply(lambda x: x/SumCol_df, axis=1)\n",
    "\n",
    "meanRow_df=df.iloc[:,1:].apply(lambda x: x.mean(), axis=1)\n",
    "\n",
    "Per_df=df.iloc[meanRow_df.idxmax(),1:].sort_values(ascending=False)\n",
    "\n",
    "Sing_df=df['Clarity'][meanRow_df.sort_values(ascending=True).index]\n",
    "\n",
    "mydata=pd.melt(df,id_vars='Clarity')\n",
    "mydata['Clarity']=mydata['Clarity'].astype(\"category\",categories=Sing_df,ordered=True)\n",
    "mydata['variable']=mydata['variable'].astype(\"category\",categories= Per_df.index,ordered=True)\n",
    "\n",
    "\n",
    "base_plot=(ggplot(mydata,aes(x='variable',y='value',fill='Clarity'))\n",
    "+geom_bar(stat=\"identity\", color=\"black\", position='fill',width=0.7,size=0.25)\n",
    "+scale_fill_brewer(palette=\"GnBu\")\n",
    "#+ylim(0, 10)\n",
    "+theme(\n",
    "       #text=element_text(size=15,face=\"plain\",color=\"black\"),\n",
    "       legend_title=element_text(size=18,face=\"plain\",color=\"black\"),\n",
    "       legend_text=element_text(size=16,face=\"plain\",color=\"black\"),\n",
    "       axis_title=element_text(size=18,face=\"plain\",color=\"black\"),\n",
    "       axis_text = element_text(size=16,face=\"plain\",color=\"black\"),\n",
    "       aspect_ratio =1.15,\n",
    "       figure_size = (6.5, 6.5),\n",
    "       dpi = 50\n",
    "       )\n",
    ")\n",
    "print(base_plot)\n",
    "#base_plot.save('Bar_Plot4.pdf')"
   ]
  }
 ],
 "metadata": {
  "kernelspec": {
   "display_name": "Python 3",
   "language": "python",
   "name": "python3"
  },
  "language_info": {
   "codemirror_mode": {
    "name": "ipython",
    "version": 2
   },
   "file_extension": ".py",
   "mimetype": "text/x-python",
   "name": "python",
   "nbconvert_exporter": "python",
   "pygments_lexer": "ipython2",
   "version": "2.7.6"
  }
 },
 "nbformat": 4,
 "nbformat_minor": 0
}