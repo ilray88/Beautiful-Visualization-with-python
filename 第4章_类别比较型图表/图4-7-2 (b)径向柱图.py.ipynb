{
 "cells": [
  {
   "cell_type": "code",
   "execution_count": null,
   "metadata": {
    "collapsed": true
   },
   "outputs": [],
   "source": [
    "# -*- coding: utf-8 -*-\n",
    "\"\"\"\n",
    "Created on Sun Sep 29 17:56:15 2019\n",
    "\n",
    "@author: Jie Zhang，微信公众号【EasyShu】，本代码源自《Python数据可视化之美》\n",
    "\"\"\"\n",
    "import numpy as np\n",
    "from matplotlib import cm,colors\n",
    "from matplotlib import pyplot as plt\n",
    "from matplotlib.pyplot import figure, show, rc\n",
    "import pandas as pd\n",
    "\n",
    "plt.rcParams[\"patch.force_edgecolor\"] = True\n",
    "\n",
    "mydata=pd.DataFrame(dict(day=[\"Mon\",\"Tue\",\"Wed\",\"Thu\",\"Fri\",\"Sat\",\"Sun\"],\n",
    "                      Peter=[10, 60, 50, 20,10,90,30],\n",
    "                      Jack=[20,50, 10, 10,30,60,50],\n",
    "                      Eelin=[30, 50, 20, 40,10,40,50]))\n",
    "\n",
    "n_row = mydata.shape[0]\n",
    "n_col= mydata.shape[1]\n",
    "angle = np.arange(0,2*np.pi,2*np.pi/n_row)\n",
    "    #绘制的数据\n",
    "\n",
    "cmap=cm.get_cmap('Reds',n_col)\n",
    "color=[colors.rgb2hex(cmap(i)[:3]) for i in range(cmap.N) ]\n",
    "\n",
    "radius1 = np.array(mydata.Peter)\n",
    "radius2 = np.array(mydata.Jack)\n",
    "radius3 = np.array(mydata.Eelin)\n",
    "\n",
    "fig = figure(figsize=(4,4),dpi =90)\n",
    "ax = fig.add_axes([0.1, 0.1, 0.8, 0.8], polar=True)\n",
    "\n",
    "#方法用于设置角度偏离,参数值为弧度值数值\n",
    "ax.set_theta_offset(np.pi/2)\n",
    "#当set_theta_direction的参数值为1,'counterclockwise'或者是'anticlockwise'的时候，正方向为逆时针；\n",
    "#当set_theta_direction的参数值为-1或者是'clockwise'的时候，正方向为顺时针；\n",
    "ax.set_theta_direction(-1)\n",
    "#方法用于设置极径标签显示位置,参数为标签所要显示在的角度\n",
    "ax.set_rlabel_position(360)\n",
    "\n",
    "\n",
    "barwidth1=0.2\n",
    "barwidth2=0.2\n",
    "plt.bar(angle,radius1,width=barwidth2, align=\"center\",color=color[0],edgecolor=\"k\",alpha=1,label=\"Peter\")\n",
    "plt.bar(angle+barwidth1,radius2,width=barwidth2,align=\"center\", color=color[1],edgecolor=\"k\",alpha=1,label=\"Jack\")\n",
    "plt.bar(angle+barwidth1*2,radius3,width=barwidth2,align=\"center\", color=color[2],edgecolor=\"k\",alpha=1,label=\"Eelin\")\n",
    "\n",
    "plt.legend(loc=\"center\",bbox_to_anchor=(1.2, 0, 0, 1))\n",
    "\n",
    "plt.ylim(-30,100)\n",
    "plt.xticks(angle+2*np.pi/n_row/4,labels=mydata.day,size=12)\n",
    "\n",
    "plt.yticks(np.arange(0,101,30),verticalalignment='center',horizontalalignment='right')\n",
    "\n",
    "\n",
    "plt.grid(which='major',axis =\"x\", linestyle='-', linewidth='0.5', color='gray',alpha=0.5)\n",
    "plt.grid(which='major',axis =\"y\", linestyle='-', linewidth='0.5', color='gray',alpha=0.5)\n",
    "\n",
    "#fig.savefig('径向柱图2.pdf')\n",
    "\n",
    "\n"
   ]
  }
 ],
 "metadata": {
  "kernelspec": {
   "display_name": "Python 3",
   "language": "python",
   "name": "python3"
  },
  "language_info": {
   "codemirror_mode": {
    "name": "ipython",
    "version": 2
   },
   "file_extension": ".py",
   "mimetype": "text/x-python",
   "name": "python",
   "nbconvert_exporter": "python",
   "pygments_lexer": "ipython2",
   "version": "2.7.6"
  }
 },
 "nbformat": 4,
 "nbformat_minor": 0
}