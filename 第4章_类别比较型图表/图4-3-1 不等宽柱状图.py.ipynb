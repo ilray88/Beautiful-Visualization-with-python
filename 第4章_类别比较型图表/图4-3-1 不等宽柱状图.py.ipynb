{
 "cells": [
  {
   "cell_type": "code",
   "execution_count": null,
   "metadata": {
    "collapsed": true
   },
   "outputs": [],
   "source": [
    "# -*- coding: utf-8 -*-\n",
    "\"\"\"\n",
    "Created on Wed Feb 20 15:24:54 2019\n",
    "\n",
    "@author: Jie Zhang，微信公众号【EasyShu】，本代码源自《Python数据可视化之美》\n",
    "\"\"\"\n",
    "\n",
    "import pandas as pd\n",
    "import numpy as np\n",
    "from plotnine import *\n",
    "\n",
    "mydata=pd.DataFrame(dict(Name=['A','B','C','D','E'],\n",
    "                         Scale=[35,30,20,10,5],\n",
    "                         ARPU=[56,37,63,57,59]))\n",
    "\n",
    "#构造矩形X轴的起点（最小点）\n",
    "mydata['xmin']=0\n",
    "for i in range(1,5):\n",
    "    mydata['xmin'][i]=np.sum(mydata['Scale'][0:i])\n",
    "\n",
    "#构造矩形X轴的终点（最大点）\n",
    "mydata['xmax']=0\n",
    "for i in range(0,5):\n",
    "    mydata['xmax'][i]=np.sum(mydata['Scale'][0:i+1])\n",
    "\n",
    "mydata['label']=0\n",
    "for i in range(0,5):\n",
    "    mydata['label'][i]=np.sum(mydata['Scale'][0:i+1])-mydata['Scale'][i]/2\n",
    "\n",
    "base_plot=(ggplot(mydata)+\n",
    "  geom_rect(aes(xmin='xmin',xmax='xmax',ymin=0,ymax='ARPU',fill='Name'),colour=\"black\",size=0.25)+\n",
    "  geom_text(aes(x='label',y='ARPU+3',label='ARPU'),size=14,color=\"black\")+\n",
    "  geom_text(aes(x='label',y=-4,label='Name'),size=14,color=\"black\")+\n",
    "  scale_fill_hue(s = 0.90, l = 0.65, h=0.0417,color_space='husl')+\n",
    "  ylab(\"ARPU\")+\n",
    "  xlab(\"scale\")+\n",
    "  ylim(-5,80)+\n",
    "  theme(#panel_background=element_rect(fill=\"white\"),\n",
    "        #panel_grid_major = element_line(colour = \"grey\",size=.25,linetype =\"dotted\" ),\n",
    "        #panel_grid_minor = element_line(colour = \"grey\",size=.25,linetype =\"dotted\" ),\n",
    "        text=element_text(size=15),\n",
    "        legend_position=\"none\",\n",
    "        aspect_ratio =1.15,\n",
    "        figure_size = (5, 5),\n",
    "        dpi = 100\n",
    "  ))\n",
    "print(base_plot)"
   ]
  }
 ],
 "metadata": {
  "kernelspec": {
   "display_name": "Python 3",
   "language": "python",
   "name": "python3"
  },
  "language_info": {
   "codemirror_mode": {
    "name": "ipython",
    "version": 2
   },
   "file_extension": ".py",
   "mimetype": "text/x-python",
   "name": "python",
   "nbconvert_exporter": "python",
   "pygments_lexer": "ipython2",
   "version": "2.7.6"
  }
 },
 "nbformat": 4,
 "nbformat_minor": 0
}