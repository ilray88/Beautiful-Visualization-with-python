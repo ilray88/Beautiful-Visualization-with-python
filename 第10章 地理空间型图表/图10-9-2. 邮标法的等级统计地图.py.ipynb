{
 "cells": [
  {
   "cell_type": "code",
   "execution_count": null,
   "metadata": {
    "collapsed": true
   },
   "outputs": [],
   "source": [
    "# -*- coding: utf-8 -*-\n",
    "\"\"\"\n",
    "Created on Thu Oct 17 16:09:46 2019\n",
    "\n",
    "@author: Jie Zhang，微信公众号【EasyShu】，本代码源自《Python数据可视化之美》\n",
    "\"\"\"\n",
    "\n",
    "import geopandas as gpd\n",
    "import pandas as pd\n",
    "from plotnine import *\n",
    "\n",
    "df_map = gpd.GeoDataFrame.from_file('Virtual_Map1.shp')\n",
    "df_city=pd.read_csv(\"Virtual_City.csv\")\n",
    "df=pd.merge(right=df_map[['country','geometry']], left=df_city[['country','orange','apple','banana','watermelon']],how='right',on=\"country\")\n",
    "\n",
    "df_melt=pd.melt(df,id_vars = ['country', 'geometry'])\n",
    "\n",
    "df_melt=gpd.GeoDataFrame(df_melt)\n",
    "\n",
    "base_plot=(ggplot()+\n",
    "  geom_map(df_melt, aes(fill='value'),colour=\"black\",size=0.25)+\n",
    "  geom_text(df_city,aes(x='long', y='lat', label='country'),colour=\"black\",size=10)+\n",
    "  scale_fill_gradient2(low=\"#00A08A\",mid=\"white\",high=\"#FF0000\",\n",
    "                       midpoint = df_city.orange.mean())+\n",
    "  facet_wrap('~variable')+\n",
    "  theme(strip_text = element_text(size=20,face=\"plain\",color=\"black\"),\n",
    "        axis_title=element_text(size=18,face=\"plain\",color=\"black\"),\n",
    "        axis_text = element_text(size=15,face=\"plain\",color=\"black\"),\n",
    "        legend_title=element_text(size=18,face=\"plain\",color=\"black\"),\n",
    "        legend_text = element_text(size=15,face=\"plain\",color=\"black\"),\n",
    "        figure_size = (11, 9),\n",
    "        dpi = 50))\n",
    "\n",
    "print(base_plot)\n"
   ]
  }
 ],
 "metadata": {
  "kernelspec": {
   "display_name": "Python 3",
   "language": "python",
   "name": "python3"
  },
  "language_info": {
   "codemirror_mode": {
    "name": "ipython",
    "version": 2
   },
   "file_extension": ".py",
   "mimetype": "text/x-python",
   "name": "python",
   "nbconvert_exporter": "python",
   "pygments_lexer": "ipython2",
   "version": "2.7.6"
  }
 },
 "nbformat": 4,
 "nbformat_minor": 0
}