{
 "cells": [
  {
   "cell_type": "code",
   "execution_count": null,
   "metadata": {
    "collapsed": true
   },
   "outputs": [],
   "source": [
    "# -*- coding: utf-8 -*-\n",
    "\"\"\"\n",
    "Created on Fri Oct 11 11:04:56 2019\n",
    "\n",
    "@author: Jie Zhang，微信公众号【EasyShu】，本代码源自《Python数据可视化之美》\n",
    "\"\"\"\n",
    "\n",
    "from geopandas import GeoDataFrame\n",
    "from plotnine import *\n",
    "\n",
    "#---------------------------------(a)陆地岛屿-------------------------------------------\n",
    "continents = GeoDataFrame.from_file('Virtual_Map0.shp')\n",
    "base_plot=(ggplot()+\n",
    " geom_map(continents, aes(fill='type'))+\n",
    " scale_fill_hue(s = 1, l = 0.65, h=0.0417,color_space='husl'))\n",
    "\n",
    "print(base_plot)\n",
    "\n",
    "#-----------------------(b)国家.------------------------------------------\n",
    "countries = GeoDataFrame.from_file('Virtual_Map1.shp')\n",
    "\n",
    "base_plot=(ggplot()+\n",
    " geom_map(countries, aes(fill='country'))+\n",
    " scale_fill_hue(s = 1, l = 0.65, h=0.0417,color_space='husl'))\n",
    "\n",
    "print(base_plot)\n",
    "\n",
    "#continents.set_index('SP_ID', inplace=True)\n",
    "#continents.plot(figsize=(6, 6),alpha=0.5, edgecolor='k')\n"
   ]
  }
 ],
 "metadata": {
  "kernelspec": {
   "display_name": "Python 3",
   "language": "python",
   "name": "python3"
  },
  "language_info": {
   "codemirror_mode": {
    "name": "ipython",
    "version": 2
   },
   "file_extension": ".py",
   "mimetype": "text/x-python",
   "name": "python",
   "nbconvert_exporter": "python",
   "pygments_lexer": "ipython2",
   "version": "2.7.6"
  }
 },
 "nbformat": 4,
 "nbformat_minor": 0
}