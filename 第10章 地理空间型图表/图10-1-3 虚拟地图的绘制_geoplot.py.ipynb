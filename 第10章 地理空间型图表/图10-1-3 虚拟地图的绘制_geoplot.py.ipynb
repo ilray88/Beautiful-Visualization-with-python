{
 "cells": [
  {
   "cell_type": "code",
   "execution_count": null,
   "metadata": {
    "collapsed": true
   },
   "outputs": [],
   "source": [
    "# -*- coding: utf-8 -*-\n",
    "\"\"\"\n",
    "Created on Sun Dec  1 13:34:37 2019\n",
    "\n",
    "@author: Jie Zhang，微信公众号【EasyShu】，本代码源自《Python数据可视化之美》\n",
    "\"\"\"\n",
    "from geopandas import GeoDataFrame\n",
    "import geoplot as gplt\n",
    "\n",
    "#---------------------------------(a)陆地岛屿-------------------------------------------\n",
    "continents = GeoDataFrame.from_file('Virtual_Map0.shp')\n",
    "gplt.choropleth(\n",
    "    continents[continents['type'].notnull()], hue='type',k=10,\n",
    "     cmap='Set1',legend=True, figsize=(8, 4),\n",
    "      legend_kwargs={'bbox_to_anchor':(1.15,0.5),'loc': 'center',\n",
    "                     'edgecolor': 'none', 'facecolor': 'none','title':'country'})\n",
    "\n",
    "#-----------------------(b)国家.------------------------------------------\n",
    "continents = GeoDataFrame.from_file('Virtual_Map1.shp')\n",
    "gplt.choropleth(\n",
    "    continents[continents['country'].notnull()], hue='country',k=10,\n",
    "     cmap='Set1',legend=True, figsize=(8, 4),\n",
    "      legend_kwargs={'bbox_to_anchor':(1.15,0.5),'loc': 'center',\n",
    "                     'edgecolor': 'none','facecolor': 'none','title':'country'})\n",
    "\n"
   ]
  }
 ],
 "metadata": {
  "kernelspec": {
   "display_name": "Python 3",
   "language": "python",
   "name": "python3"
  },
  "language_info": {
   "codemirror_mode": {
    "name": "ipython",
    "version": 2
   },
   "file_extension": ".py",
   "mimetype": "text/x-python",
   "name": "python",
   "nbconvert_exporter": "python",
   "pygments_lexer": "ipython2",
   "version": "2.7.6"
  }
 },
 "nbformat": 4,
 "nbformat_minor": 0
}