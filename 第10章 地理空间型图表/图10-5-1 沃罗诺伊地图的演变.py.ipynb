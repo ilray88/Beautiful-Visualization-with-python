{
 "cells": [
  {
   "cell_type": "code",
   "execution_count": null,
   "metadata": {
    "collapsed": true
   },
   "outputs": [],
   "source": [
    "# -*- coding: utf-8 -*-\n",
    "\"\"\"\n",
    "Created on Tue Oct 15 17:22:41 2019\n",
    "\n",
    "@author: Jie Zhang，微信公众号【EasyShu】，本代码源自《Python数据可视化之美》\n",
    "\"\"\"\n",
    "import geopandas as gpd\n",
    "import geoplot.crs as gcrs\n",
    "import numpy as np\n",
    "import pandas as pd\n",
    "import geoplot as gplt\n",
    "from shapely.geometry import Point\n",
    "import matplotlib.pyplot as plt\n",
    "import matplotlib.patches as mpatches\n",
    "from matplotlib import cm,colors\n",
    "\n",
    "\n",
    "df_map = gpd.GeoDataFrame.from_file('Virtual_Map1.shp')\n",
    "df_city=pd.read_csv(\"Virtual_City.csv\")\n",
    "geom  = gpd.GeoSeries([Point(x, y) for x, y in zip(df_city.long.values, df_city.lat.values)])\n",
    "df_city=gpd.GeoDataFrame(df_city,geometry=geom )\n",
    "\n",
    "\n",
    "#--------------------------------- (a)黑白沃罗诺伊图.----------------------------------------\n",
    "ax1 = gplt.voronoi(\n",
    "    df_city, #projection=gcrs.AlbersEqualArea(),\n",
    "    clip=df_map,\n",
    "    linewidth=0.5,\n",
    "    #hue='orange', cmap='Reds',k=5,\n",
    "    legend=False,\n",
    "    edgecolor='k'\n",
    ")\n",
    "\n",
    "ax2=gplt.pointplot( df_city,color='white',s=10,edgecolors ='k',ax=ax1)#zorder=2,\n",
    "gplt.polyplot(df_map, edgecolor='none', facecolor='lightgray', ax=ax1)#zorder=1,\n",
    "#plt.savefig('沃罗诺伊地图2.pdf')\n",
    "\n",
    "#--------------------------------- (b)彩色沃罗诺伊图.----------------------------------------\n",
    "ax= gplt.voronoi(\n",
    "    df_city, #projection=gcrs.AlbersEqualArea(),\n",
    "    clip=df_map,\n",
    "    hue='city', cmap='Set1',\n",
    "    legend=True,k=10,\n",
    "    edgecolor='w',\n",
    "    alpha=0.75,\n",
    "    legend_kwargs={'bbox_to_anchor':(1.15,0.5),'loc': 'center', 'edgecolor': 'none','title':'City'})\n",
    "\n",
    "gplt.pointplot( df_city,color='white',s=10,edgecolors ='k',zorder=2,ax=ax)\n",
    "gplt.polyplot(df_map, edgecolor='black', zorder=1, ax=ax)\n",
    "\n",
    "\n"
   ]
  }
 ],
 "metadata": {
  "kernelspec": {
   "display_name": "Python 3",
   "language": "python",
   "name": "python3"
  },
  "language_info": {
   "codemirror_mode": {
    "name": "ipython",
    "version": 2
   },
   "file_extension": ".py",
   "mimetype": "text/x-python",
   "name": "python",
   "nbconvert_exporter": "python",
   "pygments_lexer": "ipython2",
   "version": "2.7.6"
  }
 },
 "nbformat": 4,
 "nbformat_minor": 0
}