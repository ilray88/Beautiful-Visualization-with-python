{
 "cells": [
  {
   "cell_type": "code",
   "execution_count": null,
   "metadata": {
    "collapsed": true
   },
   "outputs": [],
   "source": [
    "# -*- coding: utf-8 -*-\n",
    "\"\"\"\n",
    "Created on Tue Oct 15 16:56:34 2019\n",
    "\n",
    "@author: Jie Zhang，微信公众号【EasyShu】，本代码源自《Python数据可视化之美》\n",
    "\"\"\"\n",
    "\n",
    "import geopandas as gpd\n",
    "import pandas as pd\n",
    "from plotnine import *\n",
    "\n",
    "Scale=3\n",
    "width=1.1\n",
    "\n",
    "df_map = gpd.GeoDataFrame.from_file('Virtual_Map1.shp')\n",
    "df_city=pd.read_csv(\"Virtual_City.csv\")\n",
    "selectCol=[\"orange\",\"apple\",\"banana\",\"watermelon\"]\n",
    "MaxH=df_city.loc[:,selectCol].max().max()\n",
    "\n",
    "df_city.loc[:,selectCol]=df_city.loc[:,selectCol]/MaxH*Scale\n",
    "\n",
    "df_city=pd.melt(df_city.loc[:,['lat','long','group','city']+selectCol],\n",
    "              id_vars=['lat','long','group','city'])\n",
    "\n",
    "df_city['hjust1']=df_city.transform(lambda x: -width if x['variable']==\"orange\"\n",
    "                                              else -width/2 if x['variable']==\"apple\"\n",
    "                                              else 0 if x['variable']==\"banana\" else width/2 ,axis=1)\n",
    "\n",
    "df_city['hjust2']=df_city.transform(lambda x: -width/2 if x['variable']==\"orange\"\n",
    "                                              else 0 if x['variable']==\"apple\"\n",
    "                                              else width/2 if x['variable']==\"banana\" else width ,axis=1)\n",
    "\n",
    "base_plot=(ggplot()+\n",
    "           geom_map(df_map,fill='white',color='gray')+\n",
    "            geom_rect(df_city, aes(xmin = 'long +hjust1', xmax = 'long+hjust2',\n",
    "                      ymin = 'lat', ymax = 'lat + value' , fill= 'variable'),\n",
    "                      size =0.25, colour =\"black\", alpha = 1)+\n",
    "           geom_text(df_city.drop_duplicates('city'),aes(x='long', y='lat', label='city'),\n",
    "                     colour=\"black\",size=10,nudge_y=-1.25)+\n",
    "          scale_fill_hue(s = 1, l = 0.65, h=0.0417,color_space='husl'))\n",
    "print(base_plot)\n"
   ]
  }
 ],
 "metadata": {
  "kernelspec": {
   "display_name": "Python 3",
   "language": "python",
   "name": "python3"
  },
  "language_info": {
   "codemirror_mode": {
    "name": "ipython",
    "version": 2
   },
   "file_extension": ".py",
   "mimetype": "text/x-python",
   "name": "python",
   "nbconvert_exporter": "python",
   "pygments_lexer": "ipython2",
   "version": "2.7.6"
  }
 },
 "nbformat": 4,
 "nbformat_minor": 0
}