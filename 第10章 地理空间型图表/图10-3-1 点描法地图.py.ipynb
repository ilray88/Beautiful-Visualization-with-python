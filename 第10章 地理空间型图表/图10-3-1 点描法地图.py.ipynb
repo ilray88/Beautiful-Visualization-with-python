{
 "cells": [
  {
   "cell_type": "code",
   "execution_count": null,
   "metadata": {
    "collapsed": true
   },
   "outputs": [],
   "source": [
    "# -*- coding: utf-8 -*-\n",
    "\"\"\"\n",
    "Created on Fri Oct 11 11:04:56 2019\n",
    "\n",
    "@author: Jie Zhang，微信公众号【EasyShu】，本代码源自《Python数据可视化之美》\n",
    "\"\"\"\n",
    "\n",
    "#from geopandas import GeoDataFrame\n",
    "import geopandas as gpd\n",
    "import pandas as pd\n",
    "from plotnine import *\n",
    "\n",
    "df_map = gpd.GeoDataFrame.from_file('Virtual_Map1.shp')\n",
    "df_city=pd.read_csv(\"Virtual_City.csv\")\n",
    "df=pd.merge(right=df_map, left=df_city,how='right',on=\"country\")\n",
    "df=gpd.GeoDataFrame(df)\n",
    "\n",
    "#------------------------------Method:plotnine --------------------------------------------------------\n",
    "base_plot=(ggplot(df)+\n",
    "           geom_map(fill='white',color='gray')+\n",
    "           geom_point(aes(x='long', y='lat'),shape='o',colour=\"black\",size=6,fill='r')+\n",
    "           geom_text(aes(x='long', y='lat', label='city'),colour=\"black\",size=10,nudge_y=-1.5)+\n",
    "          #scale_fill_gradient2(low=\"#00A08A\",mid=\"white\",high=\"#FF0000\",midpoint = df.orange.mean())\n",
    "          scale_fill_cmap(name=\"RdYlBu_r\")\n",
    ")\n",
    "print(base_plot)\n",
    "\n",
    "base_plot=(ggplot(df)+\n",
    "           geom_map(fill='white',color='gray')+\n",
    "           geom_label(aes(x='long', y='lat', label='city'),colour=\"black\",size=10,fill='orange')+\n",
    "          #scale_fill_gradient2(low=\"#00A08A\",mid=\"white\",high=\"#FF0000\",midpoint = df.orange.mean())\n",
    "          scale_fill_cmap(name=\"RdYlBu_r\")\n",
    ")\n",
    "print(base_plot)\n",
    "\n",
    "\n",
    "#------------------------------Method:geoplot --------------------------------------------------------\n",
    "\n",
    "from shapely.geometry import Point\n",
    "import geoplot as gplt\n",
    "geom  = gpd.GeoSeries([Point(x, y) for x, y in zip(df_city.long.values, df_city.lat.values)])\n",
    "df_city=gpd.GeoDataFrame(df_city,geometry=geom )\n",
    "ax=gplt.pointplot( df_city,color='red',s=10,edgecolors ='k')\n",
    "gplt.polyplot(df, facecolor='white', edgecolor='k', ax=ax)\n",
    "\n",
    "\n",
    "\n"
   ]
  }
 ],
 "metadata": {
  "kernelspec": {
   "display_name": "Python 3",
   "language": "python",
   "name": "python3"
  },
  "language_info": {
   "codemirror_mode": {
    "name": "ipython",
    "version": 2
   },
   "file_extension": ".py",
   "mimetype": "text/x-python",
   "name": "python",
   "nbconvert_exporter": "python",
   "pygments_lexer": "ipython2",
   "version": "2.7.6"
  }
 },
 "nbformat": 4,
 "nbformat_minor": 0
}