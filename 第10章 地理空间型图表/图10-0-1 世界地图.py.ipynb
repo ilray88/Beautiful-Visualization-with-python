{
 "cells": [
  {
   "cell_type": "code",
   "execution_count": null,
   "metadata": {
    "collapsed": true
   },
   "outputs": [],
   "source": [
    "# -*- coding: utf-8 -*-\n",
    "\"\"\"\n",
    "Created on Fri Oct 11 11:26:24 2019\n",
    "\n",
    "@author: Jie Zhang，微信公众号【EasyShu】，本代码源自《Python数据可视化之美》\n",
    "\"\"\"\n",
    "\n",
    "import geopandas\n",
    "import geoplot\n",
    "from plotnine import *\n",
    "\n",
    "world = geopandas.read_file(geopandas.datasets.get_path('naturalearth_lowres'))\n",
    "\n",
    "#-----------------------------Methods:plotnine-----------------------------------------------\n",
    "base_plot=(ggplot()+\n",
    "           geom_map(world, aes(fill='gdp_md_est'))+\n",
    "         scale_fill_distiller(type='seq', palette='reds'))\n",
    "print(base_plot)\n",
    "\n",
    "#-----------------------------Methods:geoplot-----------------------------------------------\n",
    "geoplot.choropleth(\n",
    "    world, hue=world['gdp_md_est'],edgecolor='k',\n",
    "    cmap='Reds',legend=True, figsize=(8, 4))\n",
    "\n",
    "# Orthographic map projection\n",
    "ax = geoplot.polyplot(\n",
    "    world, projection=geoplot.crs.Orthographic(central_longitude=90.0, central_latitude=0.0),\n",
    "    figsize=(8, 4))\n",
    "geoplot.choropleth(\n",
    "    world, hue=world['gdp_md_est'],\n",
    "    cmap='Reds',legend=True,edgecolor='k',ax=ax)\n",
    "ax.outline_patch.set_visible(True)\n",
    "\n",
    "#-------------------------Method:basemap---------------------------------------------------\n",
    "from mpl_toolkits.basemap import Basemap\n",
    "import matplotlib.pyplot as plt\n",
    "import numpy as np\n",
    "\n",
    "ax = plt.figure(figsize=(8, 6)).gca()\n",
    "#’cyl’为默认的值，是等距圆柱投影\n",
    "basemap = Basemap(projection = 'cyl', lat_0 = 0, lon_0 = 0,resolution='l',ax=ax)\n",
    "\n",
    "#’ortho’指正射投影\n",
    "#basemap = Basemap(projection = 'ortho', lat_0 = 0, lon_0 = 0,resolution='l',ax=ax)\n",
    "\n",
    "basemap.fillcontinents(color='orange',lake_color='#000000')\n",
    "basemap.drawcountries(linewidth=1,color='k')\n",
    "basemap.drawcoastlines(linewidth=1,color='k')\n",
    "basemap.drawparallels(np.arange(-90,90,30),labels=[1,0,0,0],zorder=0)\n",
    "basemap.drawmeridians(np.arange(basemap.lonmin,basemap.lonmax+30,60),labels=[0,0,0,1],zorder=0)\n",
    "plt.show()"
   ]
  }
 ],
 "metadata": {
  "kernelspec": {
   "display_name": "Python 3",
   "language": "python",
   "name": "python3"
  },
  "language_info": {
   "codemirror_mode": {
    "name": "ipython",
    "version": 2
   },
   "file_extension": ".py",
   "mimetype": "text/x-python",
   "name": "python",
   "nbconvert_exporter": "python",
   "pygments_lexer": "ipython2",
   "version": "2.7.6"
  }
 },
 "nbformat": 4,
 "nbformat_minor": 0
}