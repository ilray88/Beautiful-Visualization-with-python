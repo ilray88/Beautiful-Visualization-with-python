{
 "cells": [
  {
   "cell_type": "code",
   "execution_count": null,
   "metadata": {
    "collapsed": true
   },
   "outputs": [],
   "source": [
    "# -*- coding: utf-8 -*-\n",
    "\"\"\"\n",
    "Created on Fri Oct 11 11:04:56 2019\n",
    "\n",
    "@author: Jie Zhang，微信公众号【EasyShu】，本代码源自《Python数据可视化之美》\n",
    "\"\"\"\n",
    "\n",
    "from geopandas import GeoDataFrame\n",
    "import geoplot\n",
    "import pandas as pd\n",
    "import matplotlib.pyplot as plt\n",
    "\n",
    "df_map = GeoDataFrame.from_file('Virtual_Map1.shp')\n",
    "df_city=pd.read_csv(\"Virtual_City.csv\")\n",
    "\n",
    "df=pd.merge(right=df_map, left=df_city,how='right',on=\"country\")\n",
    "df=GeoDataFrame(df)\n",
    "\n",
    "#----------------------------------orange----------------------------------------------------\n",
    "ax = geoplot.cartogram(\n",
    "    df,\n",
    "    scale='orange', limits=(0.5, 0.9),\n",
    "    #projection=gcrs.AlbersEqualArea(central_longitude=-98, central_latitude=39.5),\n",
    "    hue='orange', cmap='Reds', k=10,\n",
    "    linewidth=0.5,\n",
    "    legend=True, legend_kwargs={'loc': 'center',\n",
    "                                'bbox_to_anchor':(1.15, 0, 0, 1),\n",
    "                                'title':'value',\n",
    "                                'edgecolor':'white'}, legend_var='hue',\n",
    "    figsize=(5, 5)\n",
    ")\n",
    "geoplot.polyplot(df, facecolor='lightgray', edgecolor='white', ax=ax)\n",
    "\n",
    "#plt.title(\"Adult Obesity Rate by State, 2013\")\n",
    "#plt.savefig(\"cartogram_orange.pdf\",bbox_inches='tight', pad_inches=0.1)\n",
    "\n",
    "#-----------------------------------apple---------------------------------------------------\n",
    "ax = geoplot.cartogram(\n",
    "    df,\n",
    "    scale='apple', limits=(0.5, 0.9),\n",
    "    #projection=gcrs.AlbersEqualArea(central_longitude=-98, central_latitude=39.5),\n",
    "    hue='apple', cmap='Reds', k=10,\n",
    "    linewidth=0.5,\n",
    "    legend=True, legend_kwargs={'loc': 'center',\n",
    "                                'bbox_to_anchor':(1.15, 0, 0, 1),\n",
    "                                'title':'value',\n",
    "                                'edgecolor':'white'}, legend_var='hue',\n",
    "    figsize=(5, 5)\n",
    ")\n",
    "geoplot.polyplot(df, facecolor='lightgray', edgecolor='white', ax=ax)\n",
    "\n",
    "#plt.title(\"Adult Obesity Rate by State, 2013\")\n",
    "#plt.savefig(\"cartogram_apple.pdf\",bbox_inches='tight', pad_inches=0.1)\n",
    "\n",
    "\n",
    "\n",
    "\n",
    "\n",
    "\n"
   ]
  }
 ],
 "metadata": {
  "kernelspec": {
   "display_name": "Python 3",
   "language": "python",
   "name": "python3"
  },
  "language_info": {
   "codemirror_mode": {
    "name": "ipython",
    "version": 2
   },
   "file_extension": ".py",
   "mimetype": "text/x-python",
   "name": "python",
   "nbconvert_exporter": "python",
   "pygments_lexer": "ipython2",
   "version": "2.7.6"
  }
 },
 "nbformat": 4,
 "nbformat_minor": 0
}