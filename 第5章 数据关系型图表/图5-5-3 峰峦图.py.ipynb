{
 "cells": [
  {
   "cell_type": "code",
   "execution_count": null,
   "metadata": {
    "collapsed": true
   },
   "outputs": [],
   "source": [
    "# -*- coding: utf-8 -*-\n",
    "\"\"\"\n",
    "Created on Sat Oct  5 09:38:56 2019\n",
    "\n",
    "@author: Jie Zhang，微信公众号【EasyShu】，本代码源自《Python数据可视化之美》\n",
    "\"\"\"\n",
    "\n",
    "import pandas as pd\n",
    "import numpy as np\n",
    "from plotnine import *\n",
    "from scipy import interpolate\n",
    "df=pd.read_csv('Facting_Data.csv')\n",
    "df_melt=pd.melt(df,id_vars='X_Axis',var_name='var',value_name='value')\n",
    "mydata=pd.DataFrame( columns=['x','y','var'])\n",
    "list_var=np.unique(df_melt['var'])\n",
    "N=300\n",
    "for i in list_var:\n",
    "    x=df.loc[:,'X_Axis']\n",
    "    y=df.loc[:,i]\n",
    "    f = interpolate.interp1d(x,y)#, kind='slinear')#kind='linear',\n",
    "    x_new=np.linspace(np.min(x),np.max(x),N)\n",
    "    y_new=f(x_new)\n",
    "    mydata = mydata.append(pd.DataFrame({'x': x_new,'y':y_new,'var':np.repeat(i,N)}))\n",
    "\n",
    "height=8\n",
    "mydata['var']=mydata['var'].astype(\"category\",categories= np.unique(df_melt['var']),ordered=True)\n",
    "mydata['spacing']=mydata['var'].values.codes*height\n",
    "\n",
    "labels=np.unique(df_melt['var'])\n",
    "breaks=np.arange(0,len(labels)*height,height)\n",
    "\n",
    "base_plot=(ggplot())\n",
    "for i in np.unique(df_melt['var'])[::-1]:\n",
    "    mydata_temp=mydata[mydata['var']==i]\n",
    "    base_plot=(base_plot+\n",
    "               geom_linerange(mydata_temp,aes(x='x',ymin='spacing',ymax='y+spacing',color='y'),size=1)+\n",
    "               geom_line(mydata_temp,aes(x='x',y='y+spacing'),color=\"black\",size=0.5))\n",
    "base_plot=(base_plot+scale_color_cmap(name ='Spectral_r')+\n",
    "           scale_y_continuous(breaks=breaks,labels=labels)+\n",
    "           guides(color=guide_colorbar(title='value'))+\n",
    "           theme(dpi=100,figure_size=(6,5)))\n",
    "print(base_plot)\n"
   ]
  }
 ],
 "metadata": {
  "kernelspec": {
   "display_name": "Python 3",
   "language": "python",
   "name": "python3"
  },
  "language_info": {
   "codemirror_mode": {
    "name": "ipython",
    "version": 2
   },
   "file_extension": ".py",
   "mimetype": "text/x-python",
   "name": "python",
   "nbconvert_exporter": "python",
   "pygments_lexer": "ipython2",
   "version": "2.7.6"
  }
 },
 "nbformat": 4,
 "nbformat_minor": 0
}