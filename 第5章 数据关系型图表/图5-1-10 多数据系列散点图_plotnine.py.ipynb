{
 "cells": [
  {
   "cell_type": "code",
   "execution_count": null,
   "metadata": {
    "collapsed": true
   },
   "outputs": [],
   "source": [
    "# -*- coding: utf-8 -*-\n",
    "\"\"\"\n",
    "Created on Fri Mar  1 17:11:44 2019\n",
    "\n",
    "@author: Jie Zhang，微信公众号【EasyShu】，本代码源自《Python数据可视化之美》\n",
    "\"\"\"\n",
    "\n",
    "import pandas as pd\n",
    "from plotnine import *\n",
    "\n",
    "df=pd.read_csv('MultiSeries_Scatter_Data.csv')\n",
    "\n",
    "base_plot=(ggplot(df, aes('x','y',shape='factor(label_pred)',fill='factor(label_pred)')) +\n",
    "     geom_point(size=4,colour=\"black\",alpha=0.7)+\n",
    "  scale_shape_manual(values=('s','o'))+\n",
    "  scale_fill_manual(values=(\"#00AFBB\",  \"#FC4E07\"))+\n",
    "  labs(x = \"Axis X\",y=\"Axis Y\")+\n",
    "  scale_y_continuous(limits =(-5, 10))+\n",
    "  scale_x_continuous(limits = (-5, 10))+\n",
    "  theme(\n",
    "       #text=element_text(size=15,face=\"plain\",color=\"black\"),\n",
    "       axis_title=element_text(size=18,face=\"plain\",color=\"black\"),\n",
    "       axis_text = element_text(size=16,face=\"plain\",color=\"black\"),\n",
    "       aspect_ratio =1,\n",
    "       figure_size = (5,5),\n",
    "       dpi = 100\n",
    "       )\n",
    ")\n",
    "print(base_plot)\n"
   ]
  }
 ],
 "metadata": {
  "kernelspec": {
   "display_name": "Python 3",
   "language": "python",
   "name": "python3"
  },
  "language_info": {
   "codemirror_mode": {
    "name": "ipython",
    "version": 2
   },
   "file_extension": ".py",
   "mimetype": "text/x-python",
   "name": "python",
   "nbconvert_exporter": "python",
   "pygments_lexer": "ipython2",
   "version": "2.7.6"
  }
 },
 "nbformat": 4,
 "nbformat_minor": 0
}