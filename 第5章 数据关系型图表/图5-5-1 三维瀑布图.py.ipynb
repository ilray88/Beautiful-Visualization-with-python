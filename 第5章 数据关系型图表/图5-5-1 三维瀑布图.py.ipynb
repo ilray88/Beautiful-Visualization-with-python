{
 "cells": [
  {
   "cell_type": "code",
   "execution_count": null,
   "metadata": {
    "collapsed": true
   },
   "outputs": [],
   "source": [
    "# -*- coding: utf-8 -*-\n",
    "\"\"\"\n",
    "Created on Sat Nov 30 10:55:50 2019\n",
    "\n",
    "@author: Jie Zhang，微信公众号【EasyShu】，本代码源自《Python数据可视化之美》\n",
    "\"\"\"\n",
    "\n",
    "from mpl_toolkits.mplot3d import Axes3D\n",
    "from matplotlib.collections import PolyCollection\n",
    "import matplotlib.pyplot as plt\n",
    "import numpy as np\n",
    "import seaborn as sns\n",
    "import pandas as pd\n",
    "df=pd.read_csv('Facting_Data.csv')\n",
    "\n",
    "fig = plt.figure(figsize=(8,8),dpi =90)\n",
    "ax = fig.gca(projection='3d')\n",
    "ax.view_init(azim=-70, elev=20)##改变绘制图像的视角,即相机的位置,azim沿着z轴旋转，elev沿着y轴\n",
    "ax.grid(False)\n",
    "ax.xaxis._axinfo['tick']['outward_factor'] = 0\n",
    "ax.xaxis._axinfo['tick']['inward_factor'] = 0.4\n",
    "ax.yaxis._axinfo['tick']['outward_factor'] = 0\n",
    "ax.yaxis._axinfo['tick']['inward_factor'] = 0.4\n",
    "ax.zaxis._axinfo['tick']['outward_factor'] = 0\n",
    "ax.zaxis._axinfo['tick']['inward_factor'] = 0.4\n",
    "ax.xaxis.pane.fill = False\n",
    "ax.yaxis.pane.fill = False\n",
    "ax.zaxis.pane.fill = False\n",
    "ax.xaxis.pane.set_edgecolor('k')\n",
    "ax.yaxis.pane.set_edgecolor('k')\n",
    "ax.zaxis.pane.set_edgecolor('k')\n",
    "xs = df['X_Axis'].values\n",
    "verts = []\n",
    "zs = np.arange(25,65,5)\n",
    "for z in zs:\n",
    "    ys =df[str(z)].values\n",
    "    ys[0], ys[-1] = 0, 0\n",
    "    verts.append(list(zip(xs, ys)))\n",
    "pal_husl = sns.husl_palette(len(zs),h=15/360, l=.65, s=1).as_hex()\n",
    "\n",
    "poly = PolyCollection(verts, facecolors=pal_husl,edgecolor='k')\n",
    "poly.set_alpha(0.75)\n",
    "ax.add_collection3d(poly, zs=zs, zdir='y')\n",
    "ax.set_xlabel('X')\n",
    "ax.set_xlim3d(360, 740)\n",
    "ax.set_ylabel('Y')\n",
    "ax.set_ylim3d(25, 60)\n",
    "ax.set_zlabel('Z')\n",
    "ax.set_zlim3d(0, 15)\n",
    "plt.show()\n"
   ]
  }
 ],
 "metadata": {
  "kernelspec": {
   "display_name": "Python 3",
   "language": "python",
   "name": "python3"
  },
  "language_info": {
   "codemirror_mode": {
    "name": "ipython",
    "version": 2
   },
   "file_extension": ".py",
   "mimetype": "text/x-python",
   "name": "python",
   "nbconvert_exporter": "python",
   "pygments_lexer": "ipython2",
   "version": "2.7.6"
  }
 },
 "nbformat": 4,
 "nbformat_minor": 0
}