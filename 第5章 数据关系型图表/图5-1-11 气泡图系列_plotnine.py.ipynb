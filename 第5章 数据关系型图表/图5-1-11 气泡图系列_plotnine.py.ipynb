{
 "cells": [
  {
   "cell_type": "code",
   "execution_count": null,
   "metadata": {
    "collapsed": true
   },
   "outputs": [],
   "source": [
    "# -*- coding: utf-8 -*-\n",
    "\"\"\"\n",
    "Created on Fri Mar  1 17:17:16 2019\n",
    "\n",
    "@author: Jie Zhang，微信公众号【EasyShu】，本代码源自《Python数据可视化之美》\n",
    "\"\"\"\n",
    "\n",
    "import pandas as pd\n",
    "import numpy as np\n",
    "from plotnine import *\n",
    "from plotnine.data import mtcars\n",
    "\n",
    "#---------------------------------(c) 带数据标签的气泡图 -------------------------------\n",
    "base_plot=(ggplot(mtcars, aes(x='wt',y='mpg'))+\n",
    "   geom_point(aes(size='disp',fill='disp'),shape='o',colour=\"black\",alpha=0.8)+ \n",
    "# 绘制气泡图，颜色填充和面积大小都映射到“disp”\n",
    "   scale_fill_gradient2(low=\"#377EB8\",high=\"#E41A1C\",\n",
    "                        limits = (0,np.max(mtcars.disp)), \n",
    "                        midpoint = np.mean(mtcars.disp))+ #设置填充颜色映射主题(Colormap)\n",
    "  scale_size_area(max_size=12)+ # 设置显示的气泡图气泡最大面积\n",
    "  geom_text(label = mtcars.disp,nudge_x =0.3,nudge_y =0.3)+ # 添加数据标签disp”\n",
    "  theme(\n",
    "       #text=element_text(size=15,face=\"plain\",color=\"black\"),\n",
    "       axis_title=element_text(size=18,face=\"plain\",color=\"black\"),\n",
    "       axis_text = element_text(size=16,face=\"plain\",color=\"black\"),\n",
    "       aspect_ratio =1.2,\n",
    "       figure_size = (5,5),\n",
    "       dpi = 100\n",
    "       )\n",
    "  )\n",
    "print(base_plot)\n",
    "\n",
    "\n",
    "#---------------------------- (d) 方块状的气泡图--------------------------------------\n",
    "base_plot=(ggplot(mtcars, aes(x='wt',y='mpg'))+\n",
    "   geom_point(aes(size='disp',fill='disp'),shape='s',colour=\"black\",alpha=0.8)+ \n",
    "# 绘制气泡图，颜色填充和面积大小都映射到“disp”\n",
    "   scale_fill_gradient2(low=\"#377EB8\",high=\"#E41A1C\",\n",
    "                        limits = (0,np.max(mtcars.disp)), \n",
    "                        midpoint = np.mean(mtcars.disp))+ #设置填充颜色映射主题(Colormap)\n",
    "  scale_size_area(max_size=12)+ # 设置显示的气泡图气泡最大面积\n",
    "  #geom_text(label = mtcars.disp,nudge_x =0.3,nudge_y =0.3)+ # 添加数据标签disp”\n",
    "  theme(\n",
    "       #text=element_text(size=15,face=\"plain\",color=\"black\"),\n",
    "       axis_title=element_text(size=18,face=\"plain\",color=\"black\"),\n",
    "       axis_text = element_text(size=16,face=\"plain\",color=\"black\"),\n",
    "       aspect_ratio =1.2,\n",
    "       figure_size = (5,5),\n",
    "       dpi = 100\n",
    "       )\n",
    "  )\n",
    "print(base_plot)"
   ]
  }
 ],
 "metadata": {
  "kernelspec": {
   "display_name": "Python 3",
   "language": "python",
   "name": "python3"
  },
  "language_info": {
   "codemirror_mode": {
    "name": "ipython",
    "version": 2
   },
   "file_extension": ".py",
   "mimetype": "text/x-python",
   "name": "python",
   "nbconvert_exporter": "python",
   "pygments_lexer": "ipython2",
   "version": "2.7.6"
  }
 },
 "nbformat": 4,
 "nbformat_minor": 0
}