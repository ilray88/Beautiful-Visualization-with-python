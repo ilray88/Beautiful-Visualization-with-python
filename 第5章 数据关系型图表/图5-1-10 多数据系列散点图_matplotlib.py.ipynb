{
 "cells": [
  {
   "cell_type": "code",
   "execution_count": null,
   "metadata": {
    "collapsed": true
   },
   "outputs": [],
   "source": [
    "# -*- coding: utf-8 -*-\n",
    "\"\"\"\n",
    "Created on Sat Mar  2 10:51:28 2019\n",
    "\n",
    "@author: Jie Zhang，微信公众号【EasyShu】，本代码源自《Python数据可视化之美》\n",
    "\"\"\"\n",
    "\n",
    "import numpy as np\n",
    "import matplotlib.pyplot as plt\n",
    "import pandas as pd\n",
    "df=pd.read_csv('MultiSeries_Scatter_Data.csv')\n",
    "group=np.unique(df.label_pred)\n",
    "markers=['o','s']\n",
    "colors=[\"#00AFBB\",  \"#FC4E07\"]\n",
    "fig =plt.figure(figsize=(4,4), dpi=100)\n",
    "for i in range(0,len(group)):\n",
    "    temp_df=df[df.label_pred==group[i]]\n",
    "    plt.scatter(temp_df.x, temp_df.y,\n",
    "                s=40, linewidths=0.5, edgecolors=\"k\",alpha=0.8,\n",
    "                marker=markers[i], c=colors[i],label=group[i])\n",
    "plt.xlim(-5,10)\n",
    "plt.ylim(-5,10)\n",
    "plt.legend(title='group',loc='lower right',edgecolor='none',facecolor='none')\n",
    "plt.show()\n"
   ]
  }
 ],
 "metadata": {
  "kernelspec": {
   "display_name": "Python 3",
   "language": "python",
   "name": "python3"
  },
  "language_info": {
   "codemirror_mode": {
    "name": "ipython",
    "version": 2
   },
   "file_extension": ".py",
   "mimetype": "text/x-python",
   "name": "python",
   "nbconvert_exporter": "python",
   "pygments_lexer": "ipython2",
   "version": "2.7.6"
  }
 },
 "nbformat": 4,
 "nbformat_minor": 0
}