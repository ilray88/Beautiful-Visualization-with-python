{
 "cells": [
  {
   "cell_type": "code",
   "execution_count": null,
   "metadata": {
    "collapsed": true
   },
   "outputs": [],
   "source": [
    "# -*- coding: utf-8 -*-\n",
    "\"\"\"\n",
    "Created on Fri Mar  1 16:25:02 2019\n",
    "\n",
    "@author: Jie Zhang，微信公众号【EasyShu】，本代码源自《Python数据可视化之美》\n",
    "\"\"\"\n",
    "import numpy as np\n",
    "import matplotlib.pyplot as plt\n",
    "from matplotlib.offsetbox import OffsetImage, AnnotationBbox\n",
    "from PIL import Image\n",
    "\n",
    "def getImage(path,zoom=0.07):\n",
    "    img = Image.open(path)\n",
    "    img.thumbnail((512, 512), Image.ANTIALIAS) # resizes image in-place\n",
    "    return OffsetImage(img,zoom=zoom)\n",
    "\n",
    "paths =np.arange(1,11,1)\n",
    "\n",
    "N=10\n",
    "x = np.sort(np.random.randn(N))+5\n",
    "y = np.sort(np.random.randn(N))+5\n",
    "\n",
    "fig, ax = plt.subplots(figsize=(4,4),dpi =100)\n",
    "ax.scatter(x, y)\n",
    "\n",
    "plt.xlabel(\"X Axis\",fontsize=12)\n",
    "plt.ylabel(\"Y Axis\",fontsize=12)\n",
    "plt.yticks(ticks=np.arange(5,8,1))\n",
    "\n",
    "artists = []\n",
    "for x0, y0, path in zip(x, y,paths):\n",
    "    ab = AnnotationBbox(getImage('图片散点图数据集/'+str(path)+'.jpg'), (x0, y0), frameon=True)\n",
    "    artists.append(ax.add_artist(ab))\n",
    "\n",
    "#fig.savefig(\"图片散点图.pdf\")"
   ]
  }
 ],
 "metadata": {
  "kernelspec": {
   "display_name": "Python 3",
   "language": "python",
   "name": "python3"
  },
  "language_info": {
   "codemirror_mode": {
    "name": "ipython",
    "version": 2
   },
   "file_extension": ".py",
   "mimetype": "text/x-python",
   "name": "python",
   "nbconvert_exporter": "python",
   "pygments_lexer": "ipython2",
   "version": "2.7.6"
  }
 },
 "nbformat": 4,
 "nbformat_minor": 0
}