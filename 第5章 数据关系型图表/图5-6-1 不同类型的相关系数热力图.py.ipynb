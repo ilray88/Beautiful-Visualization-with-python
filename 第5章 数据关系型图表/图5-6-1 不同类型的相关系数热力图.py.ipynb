{
 "cells": [
  {
   "cell_type": "code",
   "execution_count": null,
   "metadata": {
    "collapsed": true
   },
   "outputs": [],
   "source": [
    "# -*- coding: utf-8 -*-\n",
    "\"\"\"\n",
    "Created on Sat Nov 30 10:57:58 2019\n",
    "\n",
    "@author: Jie Zhang，微信公众号【EasyShu】，本代码源自《Python数据可视化之美》\n",
    "\"\"\"\n",
    "\n",
    "import numpy as np\n",
    "import pandas as pd\n",
    "from plotnine import *\n",
    "from plotnine.data import mtcars\n",
    "mat_corr=np.round(mtcars.corr(),1).reset_index()\n",
    "mydata=pd.melt(mat_corr,id_vars='index',var_name='var',value_name='value')\n",
    "mydata['AbsValue']=np.abs(mydata.value)\n",
    "#------------------------------------------------(b) 气泡图------------------------------------------\n",
    "base_plot=(ggplot(mydata, aes(x ='index', y ='var', fill = 'value',size='AbsValue')) +  \n",
    "  geom_point(shape='o',colour=\"black\") +\n",
    "  scale_size_area(max_size=11, guide=False) +\n",
    "  scale_fill_cmap(name ='RdYlBu_r')+\n",
    "  coord_equal()+\n",
    "    theme(dpi=100,figure_size=(4,4)))\n",
    "print(base_plot)\n",
    "\n",
    "#------------------------------------------------(c) 方块图------------------------------------------------\n",
    "base_plot=(ggplot(mydata, aes(x ='index', y ='var', fill = 'value',size='AbsValue')) +  \n",
    "  geom_point(shape='s',colour=\"black\") +\n",
    "  scale_size_area(max_size=10, guide=False) +\n",
    "  scale_fill_cmap(name ='RdYlBu_r')+\n",
    "  coord_equal()+\n",
    "    theme(dpi=100, figure_size=(4,4)))\n",
    "print(base_plot)\n",
    "\n",
    "#------------------------------------------------(f) 带标签的热力图-----------------------------------\n",
    "base_plot=(ggplot(mydata, aes(x ='index', y ='var', fill = 'value',label='value')) +  \n",
    "  geom_tile(colour=\"black\") +\n",
    "  geom_text(size=8,colour=\"white\")+\n",
    "  scale_fill_cmap(name ='RdYlBu_r')+\n",
    "  coord_equal()+\n",
    "    theme(dpi=100,figure_size=(4,4)))\n",
    "print(base_plot)\n"
   ]
  }
 ],
 "metadata": {
  "kernelspec": {
   "display_name": "Python 3",
   "language": "python",
   "name": "python3"
  },
  "language_info": {
   "codemirror_mode": {
    "name": "ipython",
    "version": 2
   },
   "file_extension": ".py",
   "mimetype": "text/x-python",
   "name": "python",
   "nbconvert_exporter": "python",
   "pygments_lexer": "ipython2",
   "version": "2.7.6"
  }
 },
 "nbformat": 4,
 "nbformat_minor": 0
}