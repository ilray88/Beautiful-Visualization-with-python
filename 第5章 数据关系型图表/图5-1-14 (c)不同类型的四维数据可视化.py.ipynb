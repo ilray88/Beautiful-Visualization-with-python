{
 "cells": [
  {
   "cell_type": "code",
   "execution_count": null,
   "metadata": {
    "collapsed": true
   },
   "outputs": [],
   "source": [
    "# -*- coding: utf-8 -*-\n",
    "\"\"\"\n",
    "Created on Mon Mar 18 11:21:27 2019\n",
    "\n",
    "@author: Jie Zhang，微信公众号【EasyShu】，本代码源自《Python数据可视化之美》\n",
    "\"\"\"\n",
    "import pandas as pd\n",
    "from mpl_toolkits import mplot3d\n",
    "import numpy as np\n",
    "import matplotlib.pyplot as plt\n",
    "import matplotlib as mpl\n",
    "\n",
    "df=pd.read_csv('ThreeD_Scatter_Data.csv')\n",
    "\n",
    "fig = plt.figure(figsize=(10,8),dpi =90)\n",
    "ax = fig.gca(projection='3d')\n",
    "ax.view_init(azim=15, elev=20)\n",
    "ax.grid(False)\n",
    "ax.xaxis.pane.fill = False\n",
    "ax.yaxis.pane.fill = False\n",
    "ax.zaxis.pane.fill = False\n",
    "ax.xaxis.pane.set_edgecolor('k')\n",
    "ax.yaxis.pane.set_edgecolor('k')\n",
    "ax.zaxis.pane.set_edgecolor('k')\n",
    "\n",
    "ax.xaxis._axinfo['tick']['outward_factor'] = 0\n",
    "ax.xaxis._axinfo['tick']['inward_factor'] = 0.4\n",
    "ax.yaxis._axinfo['tick']['outward_factor'] = 0\n",
    "ax.yaxis._axinfo['tick']['inward_factor'] = 0.4\n",
    "ax.zaxis._axinfo['tick']['outward_factor'] = 0\n",
    "ax.zaxis._axinfo['tick']['inward_factor'] = 0.4\n",
    "\n",
    "scatter=ax.scatter3D(df.mph, df.Gas_Mileage, df.Power,c=df.Weight,s=df.Weight*0.25, cmap='RdYlBu_r',edgecolor='k',alpha=0.8)\n",
    "ax.set_xlabel('0-60 mph (sec)')\n",
    "ax.set_ylabel('Gas Mileage (mpg)')\n",
    "ax.set_zlabel('Power (kW)')\n",
    "\n",
    "ax.legend(loc='center right')\n",
    "cbar=fig.colorbar(scatter, shrink=0.5,aspect=10)\n",
    "cbar.set_label('Weight')\n",
    "\n",
    "kw = dict(prop=\"sizes\", num=5, func=lambda s: s/0.25)\n",
    "legend2 = ax.legend(*scatter.legend_elements(**kw), loc=\"center right\", title=\"Weight\")\n",
    "plt.show()\n"
   ]
  }
 ],
 "metadata": {
  "kernelspec": {
   "display_name": "Python 3",
   "language": "python",
   "name": "python3"
  },
  "language_info": {
   "codemirror_mode": {
    "name": "ipython",
    "version": 2
   },
   "file_extension": ".py",
   "mimetype": "text/x-python",
   "name": "python",
   "nbconvert_exporter": "python",
   "pygments_lexer": "ipython2",
   "version": "2.7.6"
  }
 },
 "nbformat": 4,
 "nbformat_minor": 0
}