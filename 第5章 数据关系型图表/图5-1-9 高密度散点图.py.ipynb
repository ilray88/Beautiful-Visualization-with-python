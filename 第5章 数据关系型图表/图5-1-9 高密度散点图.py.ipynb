{
 "cells": [
  {
   "cell_type": "code",
   "execution_count": null,
   "metadata": {
    "collapsed": true
   },
   "outputs": [],
   "source": [
    "# -*- coding: utf-8 -*-\n",
    "\"\"\"\n",
    "Created on Fri Mar  1 16:48:44 2019\n",
    "\n",
    "@author: Jie Zhang，微信公众号【EasyShu】，本代码源自《Python数据可视化之美》\n",
    "\"\"\"\n",
    "\n",
    "import pandas as pd\n",
    "from plotnine import *\n",
    "from sklearn.cluster import KMeans\n",
    "\n",
    "df=pd.read_csv('HighDensity_Scatter_Data.csv')\n",
    "\n",
    "#--------------------------------------(b) 带透明度设置的散点图------------------------------------\n",
    "base_plot1=(ggplot(df, aes('x','y')) +\n",
    "  geom_point( colour=\"black\",alpha=0.1)+\n",
    "  labs(x = \"Axis X\",y=\"Axis Y\")+\n",
    " theme(\n",
    "       #text=element_text(size=15,face=\"plain\",color=\"black\"),\n",
    "       axis_title=element_text(size=18,face=\"plain\",color=\"black\"),\n",
    "       axis_text = element_text(size=16,face=\"plain\",color=\"black\"),\n",
    "       aspect_ratio =1,\n",
    "       figure_size = (5, 5),\n",
    "       dpi = 100\n",
    "       )\n",
    ")\n",
    "print(base_plot1)\n",
    "\n",
    "#------------------------------------- (d) 带椭圆标定的聚类散点图-------------------------\n",
    "estimator = KMeans(n_clusters=2)#构造聚类器\n",
    "estimator.fit(df)#聚类\n",
    "df['label_pred'] = estimator.labels_ #获取聚类标签\n",
    "centroids = estimator.cluster_centers_ #获取聚类中心\n",
    "inertia = estimator.inertia_ # 获取聚类准则的总和\n",
    "\n",
    "\n",
    "# mydata为x和y两列数据组成，kmeans聚类算法\n",
    "#将分类结果转变成类别变量(categorical variables)\n",
    "base_plot2=(ggplot(df, aes('x','y',color='factor(label_pred)')) +\n",
    "   geom_point (alpha=0.2)+\n",
    "  # 绘制透明度为0.2 的散点图\n",
    "  stat_ellipse(aes(x='x',y='y',fill= 'factor(label_pred)'), geom=\"polygon\", level=0.95, alpha=0.2) +\n",
    "  #绘制椭圆标定不同类别，如果省略该语句，则绘制图3-1-7(c)\n",
    "  scale_color_manual(values=(\"#00AFBB\",\"#FC4E07\")) +#使用不同颜色标定不同数据类别\n",
    "  scale_fill_manual(values=(\"#00AFBB\",\"#FC4E07\"))+  #使用不同颜色标定不同椭类别\n",
    "  theme(\n",
    "       #text=element_text(size=15,face=\"plain\",color=\"black\"),\n",
    "       axis_title=element_text(size=18,face=\"plain\",color=\"black\"),\n",
    "       axis_text = element_text(size=16,face=\"plain\",color=\"black\"),\n",
    "       aspect_ratio =1,\n",
    "       figure_size = (5,5),\n",
    "       dpi = 100\n",
    "       )\n",
    ")\n",
    "print(base_plot2)"
   ]
  }
 ],
 "metadata": {
  "kernelspec": {
   "display_name": "Python 3",
   "language": "python",
   "name": "python3"
  },
  "language_info": {
   "codemirror_mode": {
    "name": "ipython",
    "version": 2
   },
   "file_extension": ".py",
   "mimetype": "text/x-python",
   "name": "python",
   "nbconvert_exporter": "python",
   "pygments_lexer": "ipython2",
   "version": "2.7.6"
  }
 },
 "nbformat": 4,
 "nbformat_minor": 0
}