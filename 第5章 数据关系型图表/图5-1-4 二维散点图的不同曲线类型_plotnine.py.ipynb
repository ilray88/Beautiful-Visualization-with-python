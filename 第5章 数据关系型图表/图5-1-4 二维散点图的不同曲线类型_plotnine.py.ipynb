{
 "cells": [
  {
   "cell_type": "code",
   "execution_count": null,
   "metadata": {
    "collapsed": true
   },
   "outputs": [],
   "source": [
    "# -*- coding: utf-8 -*-\n",
    "\"\"\"\n",
    "Created on Fri Mar  1 15:30:18 2019\n",
    "\n",
    "@author: Jie Zhang，微信公众号【EasyShu】，本代码源自《Python数据可视化之美》\n",
    "\"\"\"\n",
    "\n",
    "import pandas as pd\n",
    "import numpy as np\n",
    "from plotnine import *\n",
    "import skmisc #提供loess smoothing\n",
    "df=pd.read_csv('Scatter_Data.csv')\n",
    "plot_loess=(ggplot( df, aes('x','y')) +\n",
    "  geom_point(fill=\"black\",colour=\"black\",size=3,shape='o') +\n",
    "  geom_smooth(method = 'loess',span=0.4,se=True,colour=\"#00A5FF\",fill=\"#00A5FF\",alpha=0.2)+ #(f)\n",
    "  scale_y_continuous(breaks = np.arange(0, 126, 25))+\n",
    "  theme(\n",
    "      axis_title=element_text(size=18,face=\"plain\",color=\"black\"),\n",
    "       axis_text = element_text(size=16,face=\"plain\",color=\"black\"),\n",
    "     legend_position=\"none\",\n",
    "     aspect_ratio =1,\n",
    "       figure_size = (5, 5),\n",
    "       dpi = 100\n",
    "       )\n",
    ")\n",
    "\n",
    "print(plot_loess)\n",
    "\n",
    "\n",
    "plot_lm=(ggplot( df, aes('x','y')) +\n",
    "  geom_point(fill=\"black\",colour=\"black\",size=3,shape='o') +\n",
    "  geom_smooth(method=\"lm\",se=True,colour=\"red\")+ #(h)\n",
    "  #geom_smooth(method = 'gam',formula='y ~s(x)')+   #(g)\n",
    "  #geom_smooth(method = 'loess',span=0.4,se=True,colour=\"#00A5FF\",fill=\"#00A5FF\",alpha=0.2)+ #(f)\n",
    "  scale_y_continuous(breaks = np.arange(0, 126, 25))+\n",
    "  theme(\n",
    "      axis_title=element_text(size=18,face=\"plain\",color=\"black\"),\n",
    "       axis_text = element_text(size=16,face=\"plain\",color=\"black\"),\n",
    "     legend_position=\"none\",\n",
    "     aspect_ratio =1,\n",
    "       figure_size = (5, 5),\n",
    "       dpi = 100\n",
    "       )\n",
    ")\n",
    "\n",
    "print(plot_lm)\n",
    "\n",
    "plot_glm=(ggplot( df, aes('x','y')) +\n",
    "  geom_point(fill=\"black\",colour=\"black\",size=3,shape='o') +\n",
    "  geom_smooth(method=\"glm\",se=True,colour=\"red\")+ #(h)\n",
    "  #geom_smooth(method = 'gam')+   #(g)\n",
    "  #geom_smooth(method = 'loess',span=0.4,se=True,colour=\"#00A5FF\",fill=\"#00A5FF\",alpha=0.2)+ #(f)\n",
    "  scale_y_continuous(breaks = np.arange(0, 126, 25))+\n",
    "  theme(\n",
    "      axis_title=element_text(size=18,face=\"plain\",color=\"black\"),\n",
    "       axis_text = element_text(size=16,face=\"plain\",color=\"black\"),\n",
    "     legend_position=\"none\",\n",
    "     aspect_ratio =1,\n",
    "       figure_size = (5, 5),\n",
    "       dpi = 100\n",
    "       )\n",
    ")\n",
    "\n",
    "print(plot_glm)\n"
   ]
  }
 ],
 "metadata": {
  "kernelspec": {
   "display_name": "Python 3",
   "language": "python",
   "name": "python3"
  },
  "language_info": {
   "codemirror_mode": {
    "name": "ipython",
    "version": 2
   },
   "file_extension": ".py",
   "mimetype": "text/x-python",
   "name": "python",
   "nbconvert_exporter": "python",
   "pygments_lexer": "ipython2",
   "version": "2.7.6"
  }
 },
 "nbformat": 4,
 "nbformat_minor": 0
}