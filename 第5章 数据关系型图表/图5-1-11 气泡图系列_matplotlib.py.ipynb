{
 "cells": [
  {
   "cell_type": "code",
   "execution_count": null,
   "metadata": {
    "collapsed": true
   },
   "outputs": [],
   "source": [
    "# -*- coding: utf-8 -*-\n",
    "\"\"\"\n",
    "Created on Wed Oct  2 14:28:41 2019\n",
    "\n",
    "@author: Jie Zhang，微信公众号【EasyShu】，本代码源自《Python数据可视化之美》\n",
    "\"\"\"\n",
    "\n",
    "from plotnine.data import mtcars\n",
    "import matplotlib.pyplot as plt\n",
    "\n",
    "x=mtcars['wt']\n",
    "y=mtcars['mpg']\n",
    "size=mtcars['disp']\n",
    "fill=mtcars['disp']\n",
    "\n",
    "fig, ax = plt.subplots(figsize=(5,4))\n",
    "scatter = ax.scatter(x, y, c=fill, s=size, linewidths=0.5, edgecolors=\"k\",cmap='RdYlBu_r')\n",
    "\n",
    "\n",
    "cbar = plt.colorbar(scatter)\n",
    "cbar.set_label('disp')\n",
    "\n",
    "handles, labels = scatter.legend_elements(prop=\"sizes\", alpha=0.6,num=5 )\n",
    "ax.legend(handles, labels, loc=\"upper right\", title=\"Sizes\")\n",
    "\n",
    "plt.show()"
   ]
  }
 ],
 "metadata": {
  "kernelspec": {
   "display_name": "Python 3",
   "language": "python",
   "name": "python3"
  },
  "language_info": {
   "codemirror_mode": {
    "name": "ipython",
    "version": 2
   },
   "file_extension": ".py",
   "mimetype": "text/x-python",
   "name": "python",
   "nbconvert_exporter": "python",
   "pygments_lexer": "ipython2",
   "version": "2.7.6"
  }
 },
 "nbformat": 4,
 "nbformat_minor": 0
}