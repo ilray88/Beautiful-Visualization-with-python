{
 "cells": [
  {
   "cell_type": "code",
   "execution_count": null,
   "metadata": {
    "collapsed": true
   },
   "outputs": [],
   "source": [
    "# -*- coding: utf-8 -*-\n",
    "\"\"\"\n",
    "Created on Tue Oct  1 10:43:16 2019\n",
    "\n",
    "@author: Jie Zhang，微信公众号【EasyShu】，本代码源自《Python数据可视化之美》\n",
    "\"\"\"\n",
    "import matplotlib.pyplot as plt  \n",
    "import pandas as pd\n",
    "import numpy as np\n",
    "from plotnine import *\n",
    "from skmisc.loess import loess #提供loess smoothing\n",
    "df=pd.read_csv('Scatter_Data.csv')\n",
    "\n",
    "\n",
    "#---------------------------图(f) loess数据平滑曲线-----------------------------\n",
    "l = loess(df['x'], df['y'])\n",
    "l.fit()\n",
    "pred = l.predict(df['x'], stderror=True)\n",
    "conf = pred.confidence()\n",
    "\n",
    "y_fit = pred.values\n",
    "ll = conf.lower\n",
    "ul = conf.upper\n",
    "\n",
    "fig=plt.figure(figsize=(5,5))\n",
    "plt.scatter(df['x'], df['y'],s=30,c='black')\n",
    "plt.plot(df['x'], y_fit, color='r',linewidth=2,label='polyfit values')\n",
    "plt.fill_between(df['x'],ll,ul, facecolor='r', edgecolor='none',interpolate=True,alpha=.33)\n",
    "plt.show()\n",
    "\n",
    "#-----------------------------图(b): 线性拟合曲线--------------------------------\n",
    "fun = np.polyfit(df['x'], df['y'], 1)\n",
    "poly= np.poly1d(fun)\n",
    "print(poly)           #打印出拟合函数\n",
    "y_fit =poly(df['x'])  #拟合y值\n",
    "\n",
    "\n",
    "fig=plt.figure(figsize=(5,5))\n",
    "plt.scatter(df['x'], df['y'],s=30,c='black')\n",
    "plt.plot(df['x'], y_fit, color='r',linewidth=2,label='polyfit values')\n",
    "\n",
    "\n",
    "\n"
   ]
  }
 ],
 "metadata": {
  "kernelspec": {
   "display_name": "Python 3",
   "language": "python",
   "name": "python3"
  },
  "language_info": {
   "codemirror_mode": {
    "name": "ipython",
    "version": 2
   },
   "file_extension": ".py",
   "mimetype": "text/x-python",
   "name": "python",
   "nbconvert_exporter": "python",
   "pygments_lexer": "ipython2",
   "version": "2.7.6"
  }
 },
 "nbformat": 4,
 "nbformat_minor": 0
}