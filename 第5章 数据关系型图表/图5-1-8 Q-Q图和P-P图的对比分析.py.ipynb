{
 "cells": [
  {
   "cell_type": "code",
   "execution_count": null,
   "metadata": {
    "collapsed": true
   },
   "outputs": [],
   "source": [
    "# -*- coding: utf-8 -*-\n",
    "\"\"\"\n",
    "Created on Sat Mar  2 10:51:28 2019\n",
    "\n",
    "@author: Jie Zhang，微信公众号【EasyShu】，本代码源自《Python数据可视化之美》\n",
    "\"\"\"\n",
    "\n",
    "import numpy as np\n",
    "import pandas as pd\n",
    "from plotnine import *\n",
    "df=pd.DataFrame(dict(x=np.random.normal(loc=10,scale=1,size=250)))\n",
    "base_plot=(ggplot(df, aes(sample = 'x'))+\n",
    "  geom_qq(shape='o',fill=\"none\")+\n",
    "  geom_qq_line()+\n",
    "   theme(\n",
    "       #text=element_text(size=15,face=\"plain\",color=\"black\"),\n",
    "       axis_title=element_text(size=18,face=\"plain\",color=\"black\"),\n",
    "       axis_text = element_text(size=16,face=\"plain\",color=\"black\"),\n",
    "       aspect_ratio =1.05,\n",
    "       figure_size = (5,5),\n",
    "       dpi = 100\n",
    "       )\n",
    "  )\n",
    "print(base_plot)\n",
    "\n"
   ]
  }
 ],
 "metadata": {
  "kernelspec": {
   "display_name": "Python 3",
   "language": "python",
   "name": "python3"
  },
  "language_info": {
   "codemirror_mode": {
    "name": "ipython",
    "version": 2
   },
   "file_extension": ".py",
   "mimetype": "text/x-python",
   "name": "python",
   "nbconvert_exporter": "python",
   "pygments_lexer": "ipython2",
   "version": "2.7.6"
  }
 },
 "nbformat": 4,
 "nbformat_minor": 0
}