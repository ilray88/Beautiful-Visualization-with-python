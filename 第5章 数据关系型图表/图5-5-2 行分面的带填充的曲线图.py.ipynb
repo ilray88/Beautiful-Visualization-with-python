{
 "cells": [
  {
   "cell_type": "code",
   "execution_count": null,
   "metadata": {
    "collapsed": true
   },
   "outputs": [],
   "source": [
    "# -*- coding: utf-8 -*-\n",
    "\"\"\"\n",
    "Created on Sat Mar  2 11:14:08 2019\n",
    "\n",
    "@author:Jie Zhang，微信公众号【EasyShu】，本代码源自《Python数据可视化之美》\n",
    "\"\"\"\n",
    "\n",
    "import math\n",
    "import pandas as pd\n",
    "import numpy as np\n",
    "import seaborn as sns\n",
    "import matplotlib.pyplot as plt\n",
    "from plotnine import *\n",
    "\n",
    "df=pd.read_csv('Facting_Data.csv')\n",
    "\n",
    "#------------------------------------------(a)-----------------------------------------------\n",
    "df_melt=pd.melt(df,id_vars='X_Axis',var_name='var',value_name='value')\n",
    "df_melt['var']=df_melt['var'].astype(\"category\",categories= np.unique(df_melt['var'])[::-1],ordered=True)\n",
    "\n",
    "base_plot=(ggplot(df_melt,aes('X_Axis','value',fill='var'))+\n",
    "  geom_area(color=\"black\",size=0.25)+\n",
    "  facet_grid('var~.')+\n",
    "  scale_fill_hue(s = 0.90, l = 0.65, h=0.0417,color_space='husl')+\n",
    "  theme(aspect_ratio =0.1,\n",
    "       dpi=100,\n",
    "       figure_size=(5,0.5)))\n",
    "print(base_plot)\n",
    "\n",
    "\n",
    "#------------------------------------------(b)--------------------------------\n",
    "from scipy import interpolate\n",
    "\n",
    "mydata=pd.DataFrame( columns=['x','y','var'])\n",
    "\n",
    "list_var=np.unique(df_melt['var'])\n",
    "N=300\n",
    "for i in list_var:\n",
    "    x=df.loc[:,'X_Axis']\n",
    "    y=df.loc[:,i]\n",
    "    f = interpolate.interp1d(x,y)#, kind='slinear')#kind='linear',\n",
    "\n",
    "    x_new=np.linspace(np.min(x),np.max(x),N)\n",
    "    y_new=f(x_new)\n",
    "    mydata = mydata.append(pd.DataFrame({'x': x_new,'y':y_new,'var':np.repeat(i,N)}))\n",
    "\n",
    "mydata['var']=mydata['var'].astype(\"category\",categories= np.unique(df_melt['var'])[::-1],ordered=True)\n",
    "\n",
    "base_plot=(ggplot(mydata,aes('x','y',group='var'))+\n",
    "  geom_bar(aes(fill='y'),color='none',size=0.5,stat=\"identity\")+\n",
    "  geom_line(color=\"black\",size=0.5)+\n",
    "  scale_fill_cmap(name ='Spectral_r')+\n",
    "  facet_grid('var~.')+\n",
    "    theme(aspect_ratio =0.1,\n",
    "       dpi=100,\n",
    "       figure_size=(5,0.5)))\n",
    "print(base_plot)\n",
    "\n"
   ]
  }
 ],
 "metadata": {
  "kernelspec": {
   "display_name": "Python 3",
   "language": "python",
   "name": "python3"
  },
  "language_info": {
   "codemirror_mode": {
    "name": "ipython",
    "version": 2
   },
   "file_extension": ".py",
   "mimetype": "text/x-python",
   "name": "python",
   "nbconvert_exporter": "python",
   "pygments_lexer": "ipython2",
   "version": "2.7.6"
  }
 },
 "nbformat": 4,
 "nbformat_minor": 0
}