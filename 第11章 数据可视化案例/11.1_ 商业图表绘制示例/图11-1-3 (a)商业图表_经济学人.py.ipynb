{
 "cells": [
  {
   "cell_type": "code",
   "execution_count": null,
   "metadata": {
    "collapsed": true
   },
   "outputs": [],
   "source": [
    "# -*- coding: utf-8 -*-\n",
    "\"\"\"\n",
    "Created on Fri Oct 18 14:56:27 2019\n",
    "\n",
    "@author: Jie Zhang，微信公众号【EasyShu】，本代码源自《Python数据可视化之美》\n",
    "\"\"\"\n",
    "\n",
    "import matplotlib.pyplot as plt\n",
    "import numpy as np\n",
    "import pandas as pd\n",
    "\n",
    "plt.rcParams[\"font.sans-serif\"]='Arial'\n",
    "#plt.rcParams[\"font.sans-serif\"]='SimHei' #汉字显示设定\n",
    "plt.rcParams['axes.unicode_minus']=False\n",
    "plt.rcParams['axes.facecolor']='#CFDBE7'\n",
    "plt.rcParams['savefig.facecolor'] ='#CFDBE7'\n",
    "plt.rc('axes',axisbelow=True)    #使网格线置于图表下层\n",
    "\n",
    "df=pd.read_excel(r\"多数据系列柱形图.xlsx\",sheet_name=\"原始数据\")\n",
    "df=df.sort_values(\"INFO-Processing\",ascending=False)  #降序处理\n",
    "\n",
    "\n",
    "x_lable=np.array(df[\"Quarter\"])\n",
    "x=np.arange(len(x_lable))\n",
    "y1=np.array(df[\"INFO-Processing\"])\n",
    "y2=np.array(df[\"TOTAL\"])\n",
    "width=0.35\n",
    "fig=plt.figure(figsize=(5,4.5),dpi=100,facecolor='#CFDBE7')\n",
    "\n",
    "plt.bar(x,y1,width=width,color='#01516C',label='INFO-Processing')  #调整y1轴位置，颜色，label为图例名称，与下方legend结合使用\n",
    "plt.bar(x+width,y2,width=width,color='#01A4DC',label='TOTAL')       #调整y2轴位置，颜色，label为图例名称，与下方legend结合使用\n",
    "plt.xticks(x+width/2,x_lable,size=12)      #设置x轴刻度，位置,大小\n",
    "plt.yticks(size=12)                        #设置y轴刻度，位置,大小\n",
    "plt.grid(axis=\"y\",c='w',linewidth=1.2)     #设置y轴网格线的颜色与粗细\n",
    "                     #将y轴网格线置于底层\n",
    "#plt.xlabel(\"Quarter\",labelpad=10,size=18,)                          #设置x轴标签,labelpad设置标签距离x轴的位置\n",
    "#plt.ylabel(\"Amount\",labelpad=10,size=18,)                           #设置y轴标签,labelpad设置标签距离y轴的位置\n",
    "\n",
    "#显示图例，loc图例显示位置(可以用坐标方法显示），ncol图例显示几列，默认为1列,frameon设置图形边框\n",
    "plt.legend(loc=(0,1.02),ncol=2,frameon=False)\n",
    "\n",
    "ax = plt.gca()                        #获取整个绘图区的句柄\n",
    "ax.spines['top'].set_color('none')    #设置上‘脊梁’为无色\n",
    "ax.spines['right'].set_color('none')  #设置右‘脊梁’为无色\n",
    "ax.spines['left'].set_color('none')   #设置左‘脊梁’为无色\n",
    "ax.yaxis.set_ticks_position('right')  #y轴放置在y右边\n",
    "\n",
    "#添加主标题\n",
    "plt.text(0.,1.25,s='WHERE CAPITAL SPENDING\\nIS STILL HOT',transform=ax.transAxes,weight='bold',size=20)\n",
    "#添加副标题\n",
    "plt.text(0,1.12,s='Column charts are used to compare values\\nacross categories by using vertical bars.',transform=ax.transAxes,\n",
    "         weight='light',size=15)\n",
    "#添加脚注\n",
    "plt.text(0.,-0.15,s='Sources: http://zhuanlan.zhihu.com/apeter-zhang-jie',transform=ax.transAxes,weight='light',size=10)\n",
    "\n",
    "#plt.savefig('商业图表_经济学人1.pdf',bbox_inches='tight', pad_inches=0.3)\n",
    "plt.show()"
   ]
  }
 ],
 "metadata": {
  "kernelspec": {
   "display_name": "Python 3",
   "language": "python",
   "name": "python3"
  },
  "language_info": {
   "codemirror_mode": {
    "name": "ipython",
    "version": 2
   },
   "file_extension": ".py",
   "mimetype": "text/x-python",
   "name": "python",
   "nbconvert_exporter": "python",
   "pygments_lexer": "ipython2",
   "version": "2.7.6"
  }
 },
 "nbformat": 4,
 "nbformat_minor": 0
}