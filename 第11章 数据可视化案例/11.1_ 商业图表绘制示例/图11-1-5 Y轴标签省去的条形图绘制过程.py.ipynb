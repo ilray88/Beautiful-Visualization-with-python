{
 "cells": [
  {
   "cell_type": "code",
   "execution_count": null,
   "metadata": {
    "collapsed": true
   },
   "outputs": [],
   "source": [
    "# -*- coding: utf-8 -*-\n",
    "\"\"\"\n",
    "Created on Sun Dec  1 17:01:42 2019\n",
    "\n",
    "@author: Jie Zhang，微信公众号【EasyShu】，本代码源自《Python数据可视化之美》\n",
    "\"\"\"\n",
    "\n",
    "import matplotlib.pyplot as plt\n",
    "import numpy as np\n",
    "import pandas as pd\n",
    "\n",
    "df=pd.DataFrame(dict(group=[\"Manufacturing\",\"Transportationm warehousing\",\"Education services, healt care,social assistance\",\n",
    "                            \"Construction\",\"Information\",\"Retail trade\",\"Professional and business services\",\n",
    "                            \"Finance, insurace,real estate, rental, leasing\"],\n",
    "                      price=[1.08,0.74,0.73,0.66,0.55,0.54,0.356,0.28]))\n",
    "\n",
    "df=df.sort_values(by=[\"price\"],ascending=True)\n",
    "x_label=np.array(df['group'])\n",
    "y=np.array(df['price'])\n",
    "x_value=np.arange(len(x_label))\n",
    "height=0.45\n",
    "\n",
    "fig=plt.figure(figsize=(5,5))\n",
    "plt.xticks([])\n",
    "plt.yticks([])\n",
    "ax = plt.gca()                     #获取整个表格边框\n",
    "ax.spines['top'].set_color('none')     #设置上‘脊梁’为无色\n",
    "ax.spines['right'].set_color('none')     #设置右‘脊梁’为无色\n",
    "ax.spines['left'].set_color('none')      #设置左‘脊梁’为无色\n",
    "ax.spines['bottom'].set_color('none')  #设置下‘脊梁’为无色\n",
    "plt.barh(x_value,color='#0099DC',height=height,width=y,align=\"center\")\n",
    "for a,b,label in zip(y,x_value,x_label):    #给条形图加标签，需要使用for循环\n",
    "    plt.text(0, b+0.45, s=label, ha='left', va= 'center',fontsize=13,family='sans-serif')\n",
    "    plt.text(a+0.01, b, s=\"$\"+ str(round(a,2)), ha='left', va= 'center',fontsize=13.5,family='Arial',weight=\"bold\")\n",
    "\n",
    "plt.text(0,1.3,s='Economic Engine',transform=ax.transAxes,weight='bold',size=20,family='Arial')\n",
    "plt.text(0,1.05,s=\"Manufacturing has a big impact on the U.S.\\neconomy's health. Everay dollar of value added\\nin these areas generates the following amounts\\nof additional transsactions: \",\n",
    "               transform=ax.transAxes,weight='light',size=14,family='sans-serif')\n",
    "plt.text(0,-0.05,s='Source: Daniel J. Meckstroth.MAPI Foundtation;U.S. Bureau\\nof Economic Analysis',transform=ax.transAxes,weight='light',size=10,family='sans-serif')\n",
    "#plt.savefig('商业图表_条形图.pdf',bbox_inches='tight', pad_inches=0.3)\n",
    "plt.show()\n"
   ]
  }
 ],
 "metadata": {
  "kernelspec": {
   "display_name": "Python 3",
   "language": "python",
   "name": "python3"
  },
  "language_info": {
   "codemirror_mode": {
    "name": "ipython",
    "version": 2
   },
   "file_extension": ".py",
   "mimetype": "text/x-python",
   "name": "python",
   "nbconvert_exporter": "python",
   "pygments_lexer": "ipython2",
   "version": "2.7.6"
  }
 },
 "nbformat": 4,
 "nbformat_minor": 0
}