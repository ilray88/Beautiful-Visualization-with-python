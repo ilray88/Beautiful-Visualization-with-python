{
 "cells": [
  {
   "cell_type": "code",
   "execution_count": null,
   "metadata": {
    "collapsed": true
   },
   "outputs": [],
   "source": [
    "# -*- coding: utf-8 -*-\n",
    "\"\"\"\n",
    "Created on Thu Mar  7 16:57:49 2019\n",
    "\n",
    "@author: Jie Zhang，微信公众号【EasyShu】，本代码源自《Python数据可视化之美》\n",
    "\"\"\"\n",
    "import numpy as np\n",
    "import pandas as pd\n",
    "import seaborn as sns\n",
    "import matplotlib.pyplot as plt\n",
    "\n",
    "sns.set_style(\"darkgrid\",{'axes.facecolor': '.95'})\n",
    "sns.set_context(\"notebook\", font_scale=1.5,\n",
    "                rc={'axes.labelsize': 13, 'legend.fontsize':13,\n",
    "                    'xtick.labelsize': 12,'ytick.labelsize': 12})\n",
    "\n",
    "df = sns.load_dataset(\"iris\")\n",
    "\n",
    "#------------------------------------(a) 单数据系列-------------------------------------------------\n",
    "\n",
    "g=sns.pairplot(df, height =2)\n",
    "\n",
    "g = g.map_diag(plt.hist,color='#00C07C',density=False,edgecolor=\"k\",bins=10,alpha=0.8,linewidth=0.5)\n",
    "g = g.map_offdiag(plt.scatter, color='#00C2C2',edgecolor=\"k\", s=30,linewidth=0.25)\n",
    "\n",
    "plt.subplots_adjust(hspace=0.05, wspace=0.05)\n",
    "#g.savefig('Matrix_Scatter2.pdf')\n",
    "\n",
    "#--------------------------------(b) 多数据系列------------------------------------------------------\n",
    "g=sns.pairplot(df, hue=\"species\",height =2,palette ='Set1')\n",
    "\n",
    "g = g.map_diag(sns.kdeplot, lw=1, legend=False)\n",
    "\n",
    "g = g.map_offdiag(plt.scatter, edgecolor=\"k\", s=30,linewidth=0.2)\n",
    "\n",
    "\n",
    "plt.subplots_adjust(hspace=0.05, wspace=0.05)\n",
    "\n",
    "#g.savefig('Matrix_Scatter1.pdf')\n"
   ]
  }
 ],
 "metadata": {
  "kernelspec": {
   "display_name": "Python 3",
   "language": "python",
   "name": "python3"
  },
  "language_info": {
   "codemirror_mode": {
    "name": "ipython",
    "version": 2
   },
   "file_extension": ".py",
   "mimetype": "text/x-python",
   "name": "python",
   "nbconvert_exporter": "python",
   "pygments_lexer": "ipython2",
   "version": "2.7.6"
  }
 },
 "nbformat": 4,
 "nbformat_minor": 0
}