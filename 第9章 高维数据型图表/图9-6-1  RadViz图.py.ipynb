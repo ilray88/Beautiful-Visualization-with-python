{
 "cells": [
  {
   "cell_type": "code",
   "execution_count": null,
   "metadata": {
    "collapsed": true
   },
   "outputs": [],
   "source": [
    "# -*- coding: utf-8 -*-\n",
    "\"\"\"\n",
    "Created on Thu Mar  7 16:57:26 2019\n",
    "\n",
    "@author: Jie Zhang，微信公众号【EasyShu】，本代码源自《Python数据可视化之美》\n",
    "\"\"\"\n",
    "\n",
    "from pandas.plotting import radviz\n",
    "import pandas as pd\n",
    "import numpy as np\n",
    "import matplotlib.pyplot as plt\n",
    "\n",
    "df=pd.read_csv('iris.csv')\n",
    "\n",
    "angle=np.arange(360)/180*3.14159\n",
    "x=np.cos(angle)\n",
    "y=np.sin(angle)\n",
    "\n",
    "fig =plt.figure(figsize=(3.5,3.5), dpi=100)\n",
    "ax=radviz(df, 'variety',color=['#FC0000','#F0AC02','#009E88'],\n",
    "            edgecolors='k',marker='o',s=34,linewidths=1)\n",
    "plt.plot(x,y,color='gray')\n",
    "plt.axis('off')\n",
    "plt.legend(loc=\"center\",bbox_to_anchor=(1.1, 0, 0, 0.4),edgecolor='none',facecolor='none',title='Group')"
   ]
  }
 ],
 "metadata": {
  "kernelspec": {
   "display_name": "Python 3",
   "language": "python",
   "name": "python3"
  },
  "language_info": {
   "codemirror_mode": {
    "name": "ipython",
    "version": 2
   },
   "file_extension": ".py",
   "mimetype": "text/x-python",
   "name": "python",
   "nbconvert_exporter": "python",
   "pygments_lexer": "ipython2",
   "version": "2.7.6"
  }
 },
 "nbformat": 4,
 "nbformat_minor": 0
}