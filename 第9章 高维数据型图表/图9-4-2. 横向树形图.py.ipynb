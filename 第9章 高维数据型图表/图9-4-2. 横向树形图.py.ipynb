{
 "cells": [
  {
   "cell_type": "code",
   "execution_count": null,
   "metadata": {
    "collapsed": true
   },
   "outputs": [],
   "source": [
    "# -*- coding: utf-8 -*-\n",
    "\"\"\"\n",
    "Created on Sat Mar  2 21:12:56 2019\n",
    "\n",
    "@author: Jie Zhang，微信公众号【EasyShu】，本代码源自《Python数据可视化之美》\n",
    "\"\"\"\n",
    "\n",
    "import scipy.cluster.hierarchy as shc\n",
    "import numpy as np\n",
    "from matplotlib import cm,colors\n",
    "from matplotlib import pyplot as plt\n",
    "import pandas as pd\n",
    "from plotnine.data import mtcars\n",
    "from sklearn.preprocessing import scale\n",
    "plt.rcParams['axes.facecolor']='w'\n",
    "plt.rc('axes',axisbelow=True)\n",
    "\n",
    "\n",
    "df=mtcars.set_index('name')\n",
    "df.loc[:,:] = scale(df.values )\n",
    "\n",
    "#-------------------------------------------横向树形图-----------------------------------------------\n",
    "\n",
    "fig=plt.figure(figsize=(10, 10), dpi= 80)\n",
    "dend = shc.dendrogram(shc.linkage(df,method='ward'), orientation='left',\n",
    "                      labels=df.index.values, color_threshold=5\n",
    "                      )\n",
    "plt.xticks(fontsize=13,rotation=0)\n",
    "plt.yticks(fontsize=14)\n",
    "#plt.grid(color='gray',which='major', axis='x',linestyle='--')\n",
    "\n",
    "ax = plt.gca()\n",
    "ax.spines['left'].set_color('none')\n",
    "ax.spines['right'].set_color('none')\n",
    "ax.spines['top'].set_color('k')\n",
    "ax.spines['bottom'].set_color('k')\n",
    "\n",
    "#plt.savefig('树状图1.pdf')\n",
    "plt.show()\n",
    "\n",
    "#-------------------------------------------纵向树形图-----------------------------------------------\n",
    "fig=plt.figure(figsize=(5, 5), dpi= 80)\n",
    "#plt.title(\"USArrests Dendograms\", fontsize=22)\n",
    "dend = shc.dendrogram(shc.linkage(df.values.T,method='ward'), orientation='top',\n",
    "                      labels=df.columns.values, color_threshold=5,\n",
    "                      )\n",
    "plt.xticks(fontsize=13,rotation=0)\n",
    "plt.yticks(fontsize=14)\n",
    "#plt.grid(color='gray',which='major', axis='y',linestyle='--')\n",
    "\n",
    "ax = plt.gca()\n",
    "ax.spines['left'].set_color('k')\n",
    "ax.spines['right'].set_color('k')\n",
    "ax.spines['top'].set_color('none')\n",
    "ax.spines['bottom'].set_color('none')\n",
    "\n",
    "#plt.savefig('树状图2.pdf')\n",
    "plt.show()\n"
   ]
  }
 ],
 "metadata": {
  "kernelspec": {
   "display_name": "Python 3",
   "language": "python",
   "name": "python3"
  },
  "language_info": {
   "codemirror_mode": {
    "name": "ipython",
    "version": 2
   },
   "file_extension": ".py",
   "mimetype": "text/x-python",
   "name": "python",
   "nbconvert_exporter": "python",
   "pygments_lexer": "ipython2",
   "version": "2.7.6"
  }
 },
 "nbformat": 4,
 "nbformat_minor": 0
}