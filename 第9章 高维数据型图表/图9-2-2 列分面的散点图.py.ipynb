{
 "cells": [
  {
   "cell_type": "code",
   "execution_count": null,
   "metadata": {
    "collapsed": true
   },
   "outputs": [],
   "source": [
    "# -*- coding: utf-8 -*-\n",
    "\"\"\"\n",
    "Created on Thu Mar  7 16:57:53 2019\n",
    "\n",
    "@author: Jie Zhang，微信公众号【EasyShu】，本代码源自《Python数据可视化之美》\n",
    "\"\"\"\n",
    "\n",
    "from plotnine import *\n",
    "import pandas as pd\n",
    "import numpy as np\n",
    "from skmisc.loess import loess as loess_klass\n",
    "\n",
    "filename='Facet_Data.csv'\n",
    "file = open(filename, errors='ignore')#encoding=\"utf_8_sig'\",\n",
    "df=pd.read_csv(file)\n",
    "df.head()\n",
    "df.info()\n",
    "\n",
    "#--------------------------- (a) 列分面的散点图 -----------------------------------------------------\n",
    "\n",
    "base_plot=(ggplot(df, aes(x = 'tau', y = 'SOD', fill = 'Class')) +\n",
    "  geom_point(size=3,shape='o',colour=\"black\",show_legend=False) +\n",
    "  #stat_smooth(method = 'loess',show_legend=False)+\n",
    "  scale_fill_hue(s = 0.99, l = 0.65, h=0.0417,color_space='husl')+\n",
    "  facet_wrap('~ Class'))\n",
    "print(base_plot)\n",
    "\n",
    "#--------------------------- (b) 列分面的带拟合曲线的散点图-----------------------------------------------------\n",
    "base_plot=(ggplot(df, aes(x = 'tau', y = 'SOD',fill = 'Class')) +\n",
    "  geom_point(size=2,shape='o',fill = 'black',colour=\"black\",alpha=0.5,show_legend=False) +\n",
    "  stat_smooth(method = 'loess',show_legend=False,alpha=0.7)+\n",
    "  scale_fill_hue(s = 0.99, l = 0.65, h=0.0417,color_space='husl')+\n",
    "  facet_wrap('~ Class'))\n",
    "print(base_plot)\n",
    "\n",
    "\n",
    "#-------------------------(a) 列分面的气泡图 ----------------------------------------------------\n",
    "base_plot=(ggplot(df, aes(x = 'tau', y = 'SOD', fill= 'Class', size = 'age')) +\n",
    "#其气泡的颜色填充由Class映射，大小由age映射\n",
    "  geom_point(shape='o',colour=\"black\",alpha=0.7) +\n",
    "  scale_fill_hue(s = 0.99, l = 0.65, h=0.0417,color_space='husl')+\n",
    " #设置气泡类型为空心的圆圈，边框颜色为黑色，填充颜色透明度为0.7\n",
    "  facet_wrap( '~ Class'))  #类别Class为列变量\n",
    "print(base_plot)\n",
    "\n",
    "#---------------------------------- (b) 列分面的带颜色映射的气泡图-----------------------------------------------------\n",
    "\n",
    "base_plot=(ggplot(df, aes(x = 'tau', y = 'SOD', fill='age', size = 'age')) +\n",
    "  geom_point(shape='o',colour=\"black\",alpha=0.95) +\n",
    "  scale_fill_gradient2(low=\"#00A08A\",mid=\"white\",high=\"#FF0000\",midpoint = df['age'].mean())+\n",
    "  facet_wrap( '~ Class'))\n",
    "print(base_plot)\n",
    "\n",
    "#------------------------------图9-2-4 矩阵分面气泡图-----------------------------------------------\n",
    "df['gender']=df['gender'].astype('category')\n",
    "df['gender'].cat.categories=['Female','Male']\n",
    "base_plot=(ggplot(df, aes(x = 'tau', y = 'SOD', fill= 'Class', size = 'age')) +\n",
    "#其气泡的颜色填充由Class映射，大小由age映射\n",
    "  geom_point(shape='o',colour=\"black\",alpha=0.7) +\n",
    "  scale_fill_manual(values=(\"#FF0000\",\"#00A08A\",\"#F2AD00\"))+\n",
    "  #scale_fill_hue(s = 0.99, l = 0.65, h=0.0417,color_space='husl')+\n",
    "#设置气泡类型为空心的圆圈，边框颜色为黑色，填充颜色透明度为0.7\n",
    "  facet_grid('gender ~ Class') )# 性别Gender为行变量、类别Class为列变量\n",
    "print(base_plot)"
   ]
  }
 ],
 "metadata": {
  "kernelspec": {
   "display_name": "Python 3",
   "language": "python",
   "name": "python3"
  },
  "language_info": {
   "codemirror_mode": {
    "name": "ipython",
    "version": 2
   },
   "file_extension": ".py",
   "mimetype": "text/x-python",
   "name": "python",
   "nbconvert_exporter": "python",
   "pygments_lexer": "ipython2",
   "version": "2.7.6"
  }
 },
 "nbformat": 4,
 "nbformat_minor": 0
}