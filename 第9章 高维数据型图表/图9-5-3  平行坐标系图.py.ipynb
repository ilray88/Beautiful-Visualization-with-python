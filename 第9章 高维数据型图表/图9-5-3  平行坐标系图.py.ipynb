{
 "cells": [
  {
   "cell_type": "code",
   "execution_count": null,
   "metadata": {
    "collapsed": true
   },
   "outputs": [],
   "source": [
    "# -*- coding: utf-8 -*-\n",
    "\"\"\"\n",
    "Created on Thu Mar  7 16:58:09 2019\n",
    "\n",
    "@author: Jie Zhang，微信公众号【EasyShu】，本代码源自《Python数据可视化之美》\n",
    "\"\"\"\n",
    "\n",
    "import pandas as pd\n",
    "import numpy as np\n",
    "import matplotlib.pyplot as plt\n",
    "from pandas.tools.plotting import parallel_coordinates,andrews_curves\n",
    "from sklearn.preprocessing import scale\n",
    "\n",
    "df=pd.read_csv('Parallel_Coordinates_Data.csv')\n",
    "\n",
    "df['Class']=[ \"Class1\" if d>523 else \"Class2\" for d in df['reading']]\n",
    "\n",
    "df.iloc[:,range(0,df.shape[1]-1)] = scale(df.iloc[:,range(0,df.shape[1]-1)] )\n",
    "\n",
    "fig =plt.figure(figsize=(5.5,4.5), dpi=100)\n",
    "parallel_coordinates(df,'Class',color=[\"#45BFFC\",\"#90C539\" ],linewidth=1)\n",
    "\n",
    "plt.grid(b=0, which='both', axis='both')\n",
    "\n",
    "plt.legend(loc=\"center right\",\n",
    "          bbox_to_anchor=(1.25, 0, 0, 1),edgecolor='none',facecolor='none',title='Group')\n",
    "\n",
    "ax = plt.gca()\n",
    "ax.xaxis.set_ticks_position('top')\n",
    "ax.spines['top'].set_color('none')\n",
    "ax.spines['bottom'].set_color('none')\n",
    "plt.show()\n",
    "\n"
   ]
  }
 ],
 "metadata": {
  "kernelspec": {
   "display_name": "Python 3",
   "language": "python",
   "name": "python3"
  },
  "language_info": {
   "codemirror_mode": {
    "name": "ipython",
    "version": 2
   },
   "file_extension": ".py",
   "mimetype": "text/x-python",
   "name": "python",
   "nbconvert_exporter": "python",
   "pygments_lexer": "ipython2",
   "version": "2.7.6"
  }
 },
 "nbformat": 4,
 "nbformat_minor": 0
}