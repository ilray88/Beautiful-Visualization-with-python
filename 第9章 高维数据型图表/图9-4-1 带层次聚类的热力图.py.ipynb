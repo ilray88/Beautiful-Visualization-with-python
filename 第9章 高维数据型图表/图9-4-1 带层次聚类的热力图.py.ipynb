{
 "cells": [
  {
   "cell_type": "code",
   "execution_count": null,
   "metadata": {
    "collapsed": true
   },
   "outputs": [],
   "source": [
    "# -*- coding: utf-8 -*-\n",
    "\"\"\"\n",
    "Created on Thu Mar  7 16:57:35 2019\n",
    "\n",
    "@author: Jie Zhang，微信公众号【EasyShu】，本代码源自《Python数据可视化之美》\n",
    "\"\"\"\n",
    "import matplotlib.pyplot as plt\n",
    "import pandas as pd\n",
    "import seaborn as sns\n",
    "from plotnine.data import mtcars\n",
    "from sklearn.preprocessing import scale\n",
    "\n",
    "sns.set_style(\"white\")\n",
    "sns.set_context(\"notebook\", font_scale=1.5,\n",
    "                rc={'axes.labelsize': 17, 'legend.fontsize':17,\n",
    "                    'xtick.labelsize': 15,'ytick.labelsize': 10})\n",
    "\n",
    "df=mtcars.set_index('name')\n",
    "df.loc[:,:] = scale(df.values )\n",
    "\n",
    "#------------------------------- (a)热力图------------------------------------------------------\n",
    "fig=plt.figure(figsize=(7, 7),dpi=80)\n",
    "sns.heatmap(df, center=0, cmap=\"RdYlBu_r\",\n",
    "               linewidths=.15,linecolor='k')\n",
    "#sns.set()\n",
    "plt.savefig('heatmap2.pdf')\n",
    "\n",
    "#--------------------------------(b)带层次聚类的热力图.-----------------------------------------------------------\n",
    "sns.clustermap(df, center=0, cmap=\"RdYlBu_r\",\n",
    "               linewidths=.15,linecolor='k', figsize=(8, 8))\n",
    "#plt.savefig('heatmap1.pdf')\n",
    "\n",
    "\n",
    "\n",
    "#----------------------------------------案例------------------------------------------------------\n",
    "# Load the brain networks example dataset\n",
    "df = sns.load_dataset(\"brain_networks\", header=[0, 1, 2], index_col=0)\n",
    "\n",
    "# Select a subset of the networks\n",
    "used_networks = [1, 5, 6, 7, 8, 12, 13, 17]\n",
    "used_columns = (df.columns.get_level_values(\"network\")\n",
    "                          .astype(int)\n",
    "                          .isin(used_networks))\n",
    "df = df.loc[:, used_columns]\n",
    "\n",
    "# Create a categorical palette to identify the networks\n",
    "network_pal = sns.husl_palette(8, s=.45)\n",
    "network_lut = dict(zip(map(str, used_networks), network_pal))\n",
    "\n",
    "# Convert the palette to vectors that will be drawn on the side of the matrix\n",
    "networks = df.columns.get_level_values(\"network\")\n",
    "network_colors = pd.Series(networks, index=df.columns).map(network_lut)\n",
    "\n",
    "# Draw the full plot\n",
    "sns.clustermap(df.corr(), center=0, cmap=\"vlag\",\n",
    "               row_colors=network_colors, col_colors=network_colors,\n",
    "               linewidths=.75, figsize=(7, 7))\n",
    "\n"
   ]
  }
 ],
 "metadata": {
  "kernelspec": {
   "display_name": "Python 3",
   "language": "python",
   "name": "python3"
  },
  "language_info": {
   "codemirror_mode": {
    "name": "ipython",
    "version": 2
   },
   "file_extension": ".py",
   "mimetype": "text/x-python",
   "name": "python",
   "nbconvert_exporter": "python",
   "pygments_lexer": "ipython2",
   "version": "2.7.6"
  }
 },
 "nbformat": 4,
 "nbformat_minor": 0
}