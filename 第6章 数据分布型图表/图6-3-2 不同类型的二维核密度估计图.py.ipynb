{
 "cells": [
  {
   "cell_type": "code",
   "execution_count": null,
   "metadata": {
    "collapsed": true
   },
   "outputs": [],
   "source": [
    "# -*- coding: utf-8 -*-\n",
    "\"\"\"\n",
    "Created on Sat Nov 30 18:13:45 2019\n",
    "\n",
    "@author: Jie Zhang，微信公众号【EasyShu】，本代码源自《Python数据可视化之美》\n",
    "\"\"\"\n",
    "import pandas as pd\n",
    "import numpy as np\n",
    "import seaborn as sns\n",
    "import matplotlib.pyplot as plt\n",
    "from plotnine import *\n",
    "\n",
    "N=5000\n",
    "x1 = np.random.normal(1.5,1, N)\n",
    "y1 =np.random.normal(1.6,1, N)\n",
    "x2 = np.random.normal(2.5,1, N)\n",
    "y2 =np.random.normal(2.2,1, N)\n",
    "\n",
    "df=pd.DataFrame({'x':np.append(x1,x2),'y':np.append(y1,y2)})\n",
    "\n",
    "#---------------------------------(a) 方块型tile.-----------------------------------\n",
    "density_plot=(ggplot(df, aes('x','y'))\n",
    "+stat_density_2d (aes(fill = '..density..'),geom =\"tile\",contour=False)\n",
    "+scale_fill_cmap(name ='Spectral_r',breaks= np.arange(0.025,0.126,0.05))\n",
    "+theme_matplotlib()\n",
    "+theme(#legend_position='none',\n",
    "       text=element_text(size=14,colour = \"black\"),\n",
    "       aspect_ratio =1,\n",
    "       dpi=100,\n",
    "       figure_size=(4,4)))\n",
    "print(density_plot)\n",
    "\n",
    "#density_plot.save(\"density_plot1.pdf\")\n",
    "\n",
    "#--------------------------------- (b) 多边形型polygon.-----------------------------------\n",
    "density_plot=(ggplot(df, aes('x','y'))\n",
    "+stat_density_2d (aes(fill = '..level..'),geom =\"polygon\",\n",
    "                  size=0.5,levels=100,contour=True)\n",
    "+scale_fill_cmap(name ='Spectral_r',breaks= np.arange(0.025,0.126,0.05))\n",
    "+theme_matplotlib()\n",
    "+theme(#legend_position='none',\n",
    "       text=element_text(size=14,colour = \"black\"),\n",
    "       aspect_ratio =1,\n",
    "       dpi=100,\n",
    "       figure_size=(4,4)))\n",
    "print(density_plot)\n",
    "#density_plot.save(\"density_plot2.pdf\")\n",
    "\n",
    "#---------------------------------(c) 散点型-----------------------------------\n",
    "density_plot=(ggplot(df, aes('x','y'))\n",
    "+geom_point(shape=\".\",size=1,color=\"black\",alpha=0.3)\n",
    "+stat_density_2d (aes(colour = '..level..'),geom =\"polygon\",\n",
    "                  size=0.5,levels=10,fill=\"none\",n=30,\n",
    "                  contour=True)\n",
    "+scale_color_cmap(name ='Spectral_r')\n",
    "+theme_matplotlib()\n",
    "+theme(#legend_position='none',\n",
    "       text=element_text(size=12,colour = \"black\"),\n",
    "       aspect_ratio =1,\n",
    "       dpi=100,\n",
    "       figure_size=(4,4)))\n",
    "print(density_plot)"
   ]
  }
 ],
 "metadata": {
  "kernelspec": {
   "display_name": "Python 3",
   "language": "python",
   "name": "python3"
  },
  "language_info": {
   "codemirror_mode": {
    "name": "ipython",
    "version": 2
   },
   "file_extension": ".py",
   "mimetype": "text/x-python",
   "name": "python",
   "nbconvert_exporter": "python",
   "pygments_lexer": "ipython2",
   "version": "2.7.6"
  }
 },
 "nbformat": 4,
 "nbformat_minor": 0
}