{
 "cells": [
  {
   "cell_type": "code",
   "execution_count": null,
   "metadata": {
    "collapsed": true
   },
   "outputs": [],
   "source": [
    "# -*- coding: utf-8 -*-\n",
    "\"\"\"\n",
    "Created on Mon Jan 28 12:54:07 2019\n",
    "\n",
    "@author: Jie Zhang，微信公众号【EasyShu】，本代码源自《Python数据可视化之美》\n",
    "\"\"\"\n",
    "\n",
    "\n",
    "import pandas as pd\n",
    "#import numpy as np\n",
    "#import seaborn as sns\n",
    "from plotnine import *\n",
    "\n",
    "#file = open('Hist_Density_Data.csv') #encoding='utf-8',\n",
    "df=pd.read_csv('Hist_Density_Data.csv')\n",
    "#file.close()  # 关闭文件\n",
    "\n",
    "#--------------------------------------------(a2) 多数剧系列直方图-----------------------------------\n",
    "\n",
    "base_hist=(ggplot(df, aes(x='MXSPD', fill='Location'))+\n",
    "  geom_histogram(binwidth = 1,alpha=0.55,colour=\"black\",size=0.25)+#, aes(fill = ..count..) )\n",
    "  scale_fill_hue(s = 0.90, l = 0.65, h=0.0417,color_space='husl')+\n",
    "  theme(\n",
    "    text=element_text(size=13,color=\"black\"),\n",
    "    plot_title=element_text(size=15,family=\"myfont\",face=\"bold.italic\",hjust=.5,color=\"black\"),#,\n",
    "    legend_position=(0.7,0.8),\n",
    "    legend_background = element_blank(),\n",
    "    aspect_ratio =1.15,\n",
    "    figure_size=(5,5)\n",
    "  ))\n",
    "print(base_hist)\n",
    "#----------------------------------------(b2)多数剧系列核密度估计图----------------------------------\n",
    "base_density=(ggplot(df, aes(x='MXSPD',  fill='Location'))+\n",
    "  geom_density(bw=1,alpha=0.55,colour=\"black\",size=0.25,kernel=\"gaussian\")+\n",
    "  scale_fill_hue(s = 0.90, l = 0.65, h=0.0417,color_space='husl')+\n",
    "  theme(\n",
    "    text=element_text(size=13,color=\"black\"),\n",
    "    plot_title=element_text(size=15,family=\"myfont\",face=\"bold.italic\",hjust=.5,color=\"black\"),#,\n",
    "    legend_position=(0.7,0.75),\n",
    "    legend_background = element_blank(),\n",
    "    aspect_ratio =1.15,\n",
    "    figure_size=(5,5)\n",
    "  ))\n",
    "print(base_density)"
   ]
  }
 ],
 "metadata": {
  "kernelspec": {
   "display_name": "Python 3",
   "language": "python",
   "name": "python3"
  },
  "language_info": {
   "codemirror_mode": {
    "name": "ipython",
    "version": 2
   },
   "file_extension": ".py",
   "mimetype": "text/x-python",
   "name": "python",
   "nbconvert_exporter": "python",
   "pygments_lexer": "ipython2",
   "version": "2.7.6"
  }
 },
 "nbformat": 4,
 "nbformat_minor": 0
}