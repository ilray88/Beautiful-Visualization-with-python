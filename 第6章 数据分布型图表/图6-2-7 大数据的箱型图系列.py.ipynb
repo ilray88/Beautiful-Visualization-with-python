{
 "cells": [
  {
   "cell_type": "code",
   "execution_count": null,
   "metadata": {
    "collapsed": true
   },
   "outputs": [],
   "source": [
    "# -*- coding: utf-8 -*-\n",
    "\"\"\"\n",
    "Created on Sat Nov 30 17:52:29 2019\n",
    "\n",
    "@author:Jie Zhang，微信公众号【EasyShu】，本代码源自《Python数据可视化之美》\n",
    "\"\"\"\n",
    "import pandas as pd\n",
    "import numpy as np\n",
    "import seaborn as sns\n",
    "import matplotlib.pyplot as plt\n",
    "from plotnine import *\n",
    "\n",
    "df=pd.read_csv('Distribution_LargeData.csv')\n",
    "\n",
    "#-----------------------------------(a) 不同数据量的正态分布---------------------------\n",
    "box_plot=(ggplot(df,aes(x='class',y=\"value\",fill=\"class\"))\n",
    "+geom_boxplot(show_legend=False)\n",
    "+scale_fill_hue(s = 0.90, l = 0.65, h=0.0417,color_space='husl')\n",
    "+theme_matplotlib()\n",
    "+theme(#legend_position='none',\n",
    "       aspect_ratio =1.05,\n",
    "       dpi=100,\n",
    "       figure_size=(4,4)))\n",
    "print(box_plot)\n",
    "#box_plot.save(\"boxenplot3.pdf\")\n",
    "\n",
    "#-----------------------------------(b) 相同大数据的不同数据分布---------------------------\n",
    "df['class']=df['class'].astype(\"category\",categories= [\"n\", \"s\", \"k\", \"mm\"],ordered=True)\n",
    "fig = plt.figure(figsize=(4,4.5))\n",
    "sns.boxenplot(x=\"class\", y=\"value\", data=df,linewidth =0.2,\n",
    "                   palette=sns.husl_palette(4, s = 0.90, l = 0.65, h=0.0417))\n",
    "#fig.savefig('boxenplot2.pdf')"
   ]
  }
 ],
 "metadata": {
  "kernelspec": {
   "display_name": "Python 3",
   "language": "python",
   "name": "python3"
  },
  "language_info": {
   "codemirror_mode": {
    "name": "ipython",
    "version": 2
   },
   "file_extension": ".py",
   "mimetype": "text/x-python",
   "name": "python",
   "nbconvert_exporter": "python",
   "pygments_lexer": "ipython2",
   "version": "2.7.6"
  }
 },
 "nbformat": 4,
 "nbformat_minor": 0
}