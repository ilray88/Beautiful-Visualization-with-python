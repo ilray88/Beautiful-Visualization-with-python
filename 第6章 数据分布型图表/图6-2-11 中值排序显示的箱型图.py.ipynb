{
 "cells": [
  {
   "cell_type": "code",
   "execution_count": null,
   "metadata": {
    "collapsed": true
   },
   "outputs": [],
   "source": [
    "# -*- coding: utf-8 -*-\n",
    "\"\"\"\n",
    "Created on Sun Feb 10 18:06:47 2019\n",
    "\n",
    "@author: Jie Zhang，微信公众号【EasyShu】，本代码源自《Python数据可视化之美》\n",
    "\"\"\"\n",
    "\n",
    "\n",
    "import pandas as pd\n",
    "import numpy as np\n",
    "import seaborn as sns\n",
    "import matplotlib.pyplot as plt\n",
    "from plotnine import *\n",
    "\n",
    "\n",
    "# =============================================================================\n",
    "df=pd.read_csv('Boxplot_Sort_Data.csv')\n",
    "\n",
    "box_plot=(ggplot(df,aes(x='class',y=\"value\",fill=\"class\"))\n",
    "+geom_boxplot(show_legend=False)\n",
    "+scale_fill_hue(s = 0.90, l = 0.65, h=0.0417,color_space='husl')\n",
    "+theme_matplotlib()\n",
    "+theme(#legend_position='none',\n",
    "       text=element_text(size=12,colour = \"black\"),\n",
    "       aspect_ratio =1.05,\n",
    "       dpi=100,\n",
    "       figure_size=(4,4)))\n",
    "print(box_plot)\n",
    "#box_plot.save(\"box_plot_sort1.pdf\")\n",
    "\n",
    "\n",
    "df_group=df.groupby(df['class'],as_index =False).median()\n",
    "df_group=df_group.sort_values(by=\"value\",ascending= False)\n",
    "\n",
    "df['class']=df['class'].astype(\"category\",categories=df_group['class'].astype(str),ordered=True)\n",
    "\n",
    "\n",
    "box_plot=(ggplot(df,aes(x='class',y=\"value\",fill=\"class\"))\n",
    "+geom_boxplot(show_legend=False)\n",
    "+scale_fill_hue(s = 0.90, l = 0.65, h=0.0417,color_space='husl')\n",
    "+theme_matplotlib()\n",
    "+theme(#legend_position='none',\n",
    "       text=element_text(size=12,colour = \"black\"),\n",
    "       aspect_ratio =1.05,\n",
    "       dpi=100,\n",
    "       figure_size=(4,4)))\n",
    "print(box_plot)\n",
    "#box_plot.save(\"box_plot_sort2.pdf\")"
   ]
  }
 ],
 "metadata": {
  "kernelspec": {
   "display_name": "Python 3",
   "language": "python",
   "name": "python3"
  },
  "language_info": {
   "codemirror_mode": {
    "name": "ipython",
    "version": 2
   },
   "file_extension": ".py",
   "mimetype": "text/x-python",
   "name": "python",
   "nbconvert_exporter": "python",
   "pygments_lexer": "ipython2",
   "version": "2.7.6"
  }
 },
 "nbformat": 4,
 "nbformat_minor": 0
}