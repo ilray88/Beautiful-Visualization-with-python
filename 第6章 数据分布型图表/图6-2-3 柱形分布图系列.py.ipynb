{
 "cells": [
  {
   "cell_type": "code",
   "execution_count": null,
   "metadata": {
    "collapsed": true
   },
   "outputs": [],
   "source": [
    "# -*- coding: utf-8 -*-\n",
    "\"\"\"\n",
    "Created on Sat Nov 30 17:39:25 2019\n",
    "\n",
    "@author: Jie Zhang，微信公众号【EasyShu】，本代码源自《Python数据可视化之美》\n",
    "\"\"\"\n",
    "\n",
    "import pandas as pd\n",
    "import numpy as np\n",
    "import seaborn as sns\n",
    "import matplotlib.pyplot as plt\n",
    "from plotnine import *\n",
    "\n",
    "df=pd.read_csv('Distribution_Data.csv')\n",
    "df['class']=df['class'].astype(\"category\",categories= [\"n\", \"s\", \"k\", \"mm\"],ordered=True)\n",
    "\n",
    "\n",
    "#-------------------------------------------(a)带误差线的柱形图-------------------------------------------\n",
    "Barjitter_plot=(ggplot(df,aes(x='class',y=\"value\",fill=\"class\"))\n",
    "+stat_summary(fun_data=\"mean_sdl\",fun_args = {'mult':1},\n",
    "              geom=\"bar\", color = \"black\",size = 0.75,width=0.7,show_legend=False)\n",
    "+stat_summary(fun_data=\"mean_sdl\", fun_args = {'mult':1},\n",
    "              geom=\"errorbar\", color = \"black\",size = 0.75,width=.2,show_legend=False)\n",
    "+scale_fill_hue(s = 0.90, l = 0.65, h=0.0417,color_space='husl')\n",
    "+ylim(0,7)\n",
    "+theme_matplotlib()\n",
    "+theme(#legend_position='none',\n",
    "       aspect_ratio =1.05,\n",
    "       dpi=100,\n",
    "       figure_size=(4,4)))\n",
    "print(Barjitter_plot)\n",
    "#Barjitter_plot.save(\"Barjitter_plot.pdf\")\n",
    "\n",
    "#-------------------------------------------(b)带误差线柱形与抖动图-------------------------------------------\n",
    "\n",
    "Barjitter_plot=(ggplot(df,aes(x='class',y=\"value\",fill=\"class\"))\n",
    "+stat_summary(fun_data=\"mean_sdl\", fun_args = {'mult':1},\n",
    "              geom=\"bar\", fill=\"w\",color = \"black\",size =0.75,width=0.7,show_legend=False)\n",
    "+stat_summary(fun_data=\"mean_sdl\",fun_args = {'mult':1},\n",
    "              geom=\"errorbar\", color = \"black\",size = 0.75,width=.2,show_legend=False)\n",
    "+geom_jitter(width=0.3,size=2,stroke=0.1,shape='o',show_legend=False)\n",
    "+scale_fill_hue(s = 0.90, l = 0.65, h=0.0417,color_space='husl')\n",
    "+ylim(0,7)\n",
    "+theme_matplotlib()\n",
    "+theme(#legend_position='none',\n",
    "       aspect_ratio =1.05,\n",
    "       dpi=100,\n",
    "       figure_size=(4,4)))\n",
    "print(Barjitter_plot)\n",
    "#Barjitter_plot.save(\"Barjitter_plot2.pdf\")"
   ]
  }
 ],
 "metadata": {
  "kernelspec": {
   "display_name": "Python 3",
   "language": "python",
   "name": "python3"
  },
  "language_info": {
   "codemirror_mode": {
    "name": "ipython",
    "version": 2
   },
   "file_extension": ".py",
   "mimetype": "text/x-python",
   "name": "python",
   "nbconvert_exporter": "python",
   "pygments_lexer": "ipython2",
   "version": "2.7.6"
  }
 },
 "nbformat": 4,
 "nbformat_minor": 0
}