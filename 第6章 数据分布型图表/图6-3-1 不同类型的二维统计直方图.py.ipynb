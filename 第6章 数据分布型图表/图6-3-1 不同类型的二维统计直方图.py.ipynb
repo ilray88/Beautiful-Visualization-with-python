{
 "cells": [
  {
   "cell_type": "code",
   "execution_count": null,
   "metadata": {
    "collapsed": true
   },
   "outputs": [],
   "source": [
    "# -*- coding: utf-8 -*-\n",
    "\"\"\"\n",
    "Created on Sun Feb 10 18:26:53 2019\n",
    "\n",
    "@author: Jie Zhang，微信公众号【EasyShu】，本代码源自《Python数据可视化之美》\n",
    "\"\"\"\n",
    "\n",
    "\n",
    "import pandas as pd\n",
    "import numpy as np\n",
    "import seaborn as sns\n",
    "import matplotlib.pyplot as plt\n",
    "from plotnine import *\n",
    "\n",
    "N=5000\n",
    "x1 = np.random.normal(1.5,1, N)\n",
    "y1 =np.random.normal(1.6,1, N)\n",
    "x2 = np.random.normal(2.5,1, N)\n",
    "y2 =np.random.normal(2.2,1, N)\n",
    "\n",
    "df=pd.DataFrame({'x':np.append(x1,x2),'y':np.append(y1,y2)})\n",
    "\n",
    "#-------------------------------------(a) 方块形.------------------------------------------\n",
    "bin_plot=(ggplot(df, aes('x','y'))\n",
    "+stat_bin2d(bins=40)\n",
    "+scale_fill_cmap(name ='Spectral_r')\n",
    "+theme_matplotlib()\n",
    "+theme(#legend_position='none',\n",
    "       text=element_text(size=12,colour = \"black\"),\n",
    "       aspect_ratio =1,\n",
    "       dpi=100,\n",
    "       figure_size=(4,4)))\n",
    "print(bin_plot)\n",
    "\n",
    "#bin_plot.save(\"bin_plot.pdf\")\n",
    "#-------------------------------------(a) 方块形.------------------------------------------\n",
    "fig = plt.figure(figsize=[3,2.7],dpi=130)\n",
    "h=plt.hist2d(df['x'], df['y'], bins=40,cmap=plt.cm.Spectral_r,cmin =1)\n",
    "ax=plt.gca()\n",
    "ax.set_xlabel('x')\n",
    "ax.set_ylabel('y')\n",
    "cbar=plt.colorbar(h[3])\n",
    "cbar.set_label('count')\n",
    "cbar.set_ticks(np.linspace(0,60,7))\n",
    "plt.show()\n",
    "#fig.savefig('bin_plot2.pdf')\n",
    "\n",
    "#-------------------------------------(b)六方形.------------------------------------------\n",
    "fig, ax = plt.subplots(figsize=[3,2.7],dpi=130)#\n",
    "im = ax.hexbin(df['x'], df['y'],cmap=plt.cm.Spectral_r,gridsize=(20,20),mincnt=1)\n",
    "ax.set_xlabel('x')\n",
    "ax.set_ylabel('y')\n",
    "#ax.set_yticlabels()\n",
    "cbar=fig.colorbar(im, ax=ax)\n",
    "cbar.set_label('count')\n",
    "#fig.savefig('hexbin_plot.pdf')\n",
    "\n",
    "\n"
   ]
  }
 ],
 "metadata": {
  "kernelspec": {
   "display_name": "Python 3",
   "language": "python",
   "name": "python3"
  },
  "language_info": {
   "codemirror_mode": {
    "name": "ipython",
    "version": 2
   },
   "file_extension": ".py",
   "mimetype": "text/x-python",
   "name": "python",
   "nbconvert_exporter": "python",
   "pygments_lexer": "ipython2",
   "version": "2.7.6"
  }
 },
 "nbformat": 4,
 "nbformat_minor": 0
}