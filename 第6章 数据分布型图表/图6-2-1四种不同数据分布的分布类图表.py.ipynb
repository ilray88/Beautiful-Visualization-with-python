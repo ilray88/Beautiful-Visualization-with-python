{
 "cells": [
  {
   "cell_type": "code",
   "execution_count": null,
   "metadata": {
    "collapsed": true
   },
   "outputs": [],
   "source": [
    "# -*- coding: utf-8 -*-\n",
    "\"\"\"\n",
    "Created on Sat Nov 30 17:30:46 2019\n",
    "\n",
    "@author: Jie Zhang，微信公众号【EasyShu】，本代码源自《Python数据可视化之美》\n",
    "\"\"\"\n",
    "\n",
    "import pandas as pd\n",
    "from plotnine import *\n",
    "df=pd.read_csv('Distribution_Data.csv')\n",
    "df['class']=df['class'].astype(\"category\",categories= [\"n\", \"s\", \"k\", \"mm\"],ordered=True)\n",
    "\n",
    "#-------------------------------------------核密度估计图-------------------------------------------\n",
    "density_plot=(ggplot(df,aes(x=\"value\",fill=\"class\"))\n",
    "+geom_density(alpha=1)\n",
    "+facet_grid('class~.')\n",
    "#+scale_fill_brewer(palette  =6,type =\"qualitative\"))\n",
    "+scale_fill_hue(s = 0.90, l = 0.65, h=0.0417,color_space='husl')\n",
    "+theme_light()\n",
    "+theme(aspect_ratio =0.25,\n",
    "       dpi=100,\n",
    "       figure_size=(3,4)))\n",
    "print(density_plot)\n",
    "#density_plot.save(\"density_plot.pdf\")\n",
    "\n",
    "#-------------------------------------------统计直方图-------------------------------------------\n",
    "histogram_plot=(ggplot(df,aes(x=\"value\",fill=\"class\"))\n",
    "+geom_histogram(alpha=1,colour=\"black\",bins=30,size=0.2)\n",
    "+facet_grid('class~.')\n",
    "+scale_fill_hue(s = 0.90, l = 0.65, h=0.0417,color_space='husl')\n",
    "+theme_light()\n",
    "+theme(aspect_ratio =0.25,\n",
    "       dpi=100,\n",
    "       figure_size=(3,4)))\n",
    "print(histogram_plot)\n",
    "#histogram_plot.save(\"histogram_plot.pdf\")\n"
   ]
  }
 ],
 "metadata": {
  "kernelspec": {
   "display_name": "Python 3",
   "language": "python",
   "name": "python3"
  },
  "language_info": {
   "codemirror_mode": {
    "name": "ipython",
    "version": 2
   },
   "file_extension": ".py",
   "mimetype": "text/x-python",
   "name": "python",
   "nbconvert_exporter": "python",
   "pygments_lexer": "ipython2",
   "version": "2.7.6"
  }
 },
 "nbformat": 4,
 "nbformat_minor": 0
}