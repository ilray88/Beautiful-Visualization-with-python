{
 "cells": [
  {
   "cell_type": "code",
   "execution_count": null,
   "metadata": {
    "collapsed": true
   },
   "outputs": [],
   "source": [
    "# -*- coding: utf-8 -*-\n",
    "\"\"\"\n",
    "Created on Sat Nov 30 20:15:47 2019\n",
    "\n",
    "@author: Jie Zhang，微信公众号【EasyShu】，本代码源自《Python数据可视化之美》\n",
    "\"\"\"\n",
    "import pandas as pd\n",
    "import numpy as np\n",
    "from plotnine import *\n",
    "\n",
    "import matplotlib.pyplot as plt\n",
    "\n",
    "import calmap\n",
    "df=pd.read_csv('Calendar.csv',parse_dates=['date'])\n",
    "df.set_index('date', inplace=True)\n",
    "\n",
    "fig,ax=calmap.calendarplot(df['value'],  fillcolor='grey',\n",
    "                           linecolor='w',linewidth=0.1,cmap='RdYlGn',\n",
    "                           yearlabel_kws={'color':'black', 'fontsize':12},\n",
    "                            fig_kws=dict(figsize=(10,5),dpi= 80))\n",
    "fig.colorbar(ax[0].get_children()[1], ax=ax.ravel().tolist())\n",
    "plt.show()\n",
    "#fig.savefig('日历图1.pdf')"
   ]
  }
 ],
 "metadata": {
  "kernelspec": {
   "display_name": "Python 3",
   "language": "python",
   "name": "python3"
  },
  "language_info": {
   "codemirror_mode": {
    "name": "ipython",
    "version": 2
   },
   "file_extension": ".py",
   "mimetype": "text/x-python",
   "name": "python",
   "nbconvert_exporter": "python",
   "pygments_lexer": "ipython2",
   "version": "2.7.6"
  }
 },
 "nbformat": 4,
 "nbformat_minor": 0
}