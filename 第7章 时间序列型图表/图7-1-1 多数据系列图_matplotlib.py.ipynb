{
 "cells": [
  {
   "cell_type": "code",
   "execution_count": null,
   "metadata": {
    "collapsed": true
   },
   "outputs": [],
   "source": [
    "# -*- coding: utf-8 -*-\n",
    "\"\"\"\n",
    "Created on Wed Mar  6 14:00:19 2019\n",
    "\n",
    "@author: Jie Zhang，微信公众号【EasyShu】，本代码源自《Python数据可视化之美》\n",
    "\"\"\"\n",
    "\n",
    "import seaborn as sns\n",
    "import pandas as pd\n",
    "import matplotlib.pyplot as plt\n",
    "from datetime import datetime\n",
    "\n",
    "df=pd.read_csv('Line_Data.csv',index_col =0)\n",
    "\n",
    "df.index=[datetime.strptime(d, '%Y/%m/%d').date() for d in df.index]\n",
    "\n",
    "#---------------------------------------------图6-1-1 多数据系列图. (a)折线图--------------------\n",
    "fig =plt.figure(figsize=(5,4), dpi=100)\n",
    "plt.plot(df.index, df.AMZN, color='#F94306', label='AMZN')\n",
    "plt.plot(df.index, df.AAPL, color='#06BCF9', label='AAPL')\n",
    "plt.xlabel(\"Year\")\n",
    "plt.ylabel(\"Value\")\n",
    "plt.legend(loc='upper left',edgecolor='none',facecolor='none')\n",
    "plt.show()\n",
    "\n",
    "#----------------------------------------图6-1-1 多数据系列图.(b)面积图.-------------------------\n",
    "columns=df.columns\n",
    "colors=[\"#F94306\",\"#06BCF9\"]\n",
    "fig =plt.figure(figsize=(5,4), dpi=100)\n",
    "plt.fill_between(df.index.values, y1=df.AMZN.values, y2=0, label=columns[1], alpha=0.75, facecolor=colors[0], linewidth=1,edgecolor ='k')\n",
    "plt.fill_between(df.index.values, y1=df.AAPL.values, y2=0, label=columns[0], alpha=0.75, facecolor=colors[1], linewidth=1,edgecolor ='k')\n",
    "plt.xlabel(\"Year\")\n",
    "plt.ylabel(\"Value\")\n",
    "plt.legend(loc='upper left',edgecolor='none',facecolor='none')\n",
    "plt.show()\n",
    "\n",
    "\n",
    "#-------------------------------------图6-1-3 夹层填充面积图. (a)单色-----------------------------------------------------\n",
    "df=pd.read_csv('Line_Data.csv')\n",
    "\n",
    "df['date']=[datetime.strptime(d, '%Y/%m/%d').date() for d in df['date']]#df['date'].map(lambda x:datetime.datetime.strptime(x, '%Y/%m/%d').date())\n",
    "\n",
    "df['ymin']=df[['AMZN','AAPL']].apply(lambda x: x.min(), axis=1)\n",
    "df['ymax']=df[['AMZN','AAPL']].apply(lambda x: x.max(), axis=1)\n",
    "\n",
    "\n",
    "fig =plt.figure(figsize=(5,4), dpi=100)\n",
    "plt.fill_between(df.date.values, y1=df.ymax.values, y2=df.ymin.values, alpha=0.15, facecolor='black', linewidth=1,edgecolor ='k')\n",
    "plt.plot(df.date, df.AMZN, color='#F94306', label='AMZN')\n",
    "plt.plot(df.date, df.AAPL, color='#06BCF9', label='AAPL')\n",
    "plt.xlabel(\"Year\")\n",
    "plt.ylabel(\"Value\")\n",
    "plt.legend(loc='upper left',edgecolor='none',facecolor='none')\n",
    "plt.show()\n",
    "\n"
   ]
  }
 ],
 "metadata": {
  "kernelspec": {
   "display_name": "Python 3",
   "language": "python",
   "name": "python3"
  },
  "language_info": {
   "codemirror_mode": {
    "name": "ipython",
    "version": 2
   },
   "file_extension": ".py",
   "mimetype": "text/x-python",
   "name": "python",
   "nbconvert_exporter": "python",
   "pygments_lexer": "ipython2",
   "version": "2.7.6"
  }
 },
 "nbformat": 4,
 "nbformat_minor": 0
}