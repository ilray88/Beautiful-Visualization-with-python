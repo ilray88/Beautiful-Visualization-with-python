{
 "cells": [
  {
   "cell_type": "code",
   "execution_count": null,
   "metadata": {
    "collapsed": true
   },
   "outputs": [],
   "source": [
    "# -*- coding: utf-8 -*-\n",
    "\"\"\"\n",
    "Created on Thu Mar  7 14:35:21 2019\n",
    "\n",
    "@author: Jie Zhang，微信公众号【EasyShu】，本代码源自《Python数据可视化之美》\n",
    "\"\"\"\n",
    "\n",
    "import pandas as pd\n",
    "import numpy as np\n",
    "import matplotlib.pyplot as plt\n",
    "from matplotlib import cm,colors\n",
    "from matplotlib.pyplot import figure, show, rc\n",
    "\n",
    "#------------------------------------------(a)排序前----------------------------------------\n",
    "df=pd.read_csv('StreamGraph_Data.csv',index_col =0)\n",
    "\n",
    "labels=df.columns\n",
    "cmap=cm.get_cmap('Paired',11)\n",
    "color=[colors.rgb2hex(cmap(i)[:3]) for i in range(cmap.N) ]\n",
    "\n",
    "\n",
    "fig = figure(figsize=(5,4.5),dpi =90)\n",
    "plt.stackplot(df.index.values, df.values.T, labels=labels,baseline ='sym',colors=color,edgecolor='k',linewidth=0.25)\n",
    "plt.legend(loc=\"center right\",\n",
    "          bbox_to_anchor=(1.2, 0, 0, 1),title='Group',edgecolor='none',facecolor='none')\n",
    "plt.show()\n",
    "#fig.savefig('量化波形图1.pdf')\n",
    "#=--------------------------------------(b)排序后.-------------------------------------------\n",
    "df=pd.read_csv('StreamGraph_Data.csv',index_col =0)\n",
    "df_colmax= (df.apply(lambda x: x.max(), axis=0)).sort_values(ascending=True)\n",
    "N=len(df_colmax)\n",
    "index=np.append(np.arange(0,N,2),np.arange(1,N,2)[::-1])\n",
    "labels=df_colmax.index[index]\n",
    "\n",
    "df=df[labels]\n",
    "\n",
    "cmap=cm.get_cmap('Paired',11)\n",
    "color=[colors.rgb2hex(cmap(i)[:3]) for i in range(cmap.N) ]\n",
    "\n",
    "fig = figure(figsize=(5,4.5),dpi =90)\n",
    "plt.stackplot(df.index.values, df.values.T, labels=labels,baseline ='wiggle',colors=color,edgecolor='k',linewidth=0.25)\n",
    "plt.legend(loc=\"center right\",\n",
    "          bbox_to_anchor=(1.2, 0, 0, 1),title='Group',edgecolor='none',facecolor='none')\n",
    "plt.show()\n",
    "#fig.savefig('量化波形图2.pdf')"
   ]
  }
 ],
 "metadata": {
  "kernelspec": {
   "display_name": "Python 3",
   "language": "python",
   "name": "python3"
  },
  "language_info": {
   "codemirror_mode": {
    "name": "ipython",
    "version": 2
   },
   "file_extension": ".py",
   "mimetype": "text/x-python",
   "name": "python",
   "nbconvert_exporter": "python",
   "pygments_lexer": "ipython2",
   "version": "2.7.6"
  }
 },
 "nbformat": 4,
 "nbformat_minor": 0
}