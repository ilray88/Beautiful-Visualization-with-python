{
 "cells": [
  {
   "cell_type": "code",
   "execution_count": null,
   "metadata": {
    "collapsed": true
   },
   "outputs": [],
   "source": [
    "# -*- coding: utf-8 -*-\n",
    "\"\"\"\n",
    "Created on Thu Mar  7 12:56:52 2019\n",
    "\n",
    "@author: Jie Zhang，微信公众号【EasyShu】，本代码源自《Python数据可视化之美》\n",
    "\"\"\"\n",
    "\n",
    "import pandas as pd\n",
    "from plotnine import *\n",
    "from datetime import datetime\n",
    "\n",
    "df=pd.read_csv('StackedArea_Data.csv')\n",
    "\n",
    "df['Date']=[datetime.strptime(d, '%Y/%m/%d').date() for d in df['Date']]\n",
    "Sum_df=df.iloc[:,1:].apply(lambda x: x.sum(), axis=0).sort_values(ascending=True)\n",
    "melt_df=pd.melt(df,id_vars=[\"Date\"],var_name='variable',value_name='value')\n",
    "melt_df['variable']=melt_df['variable'].astype(\"category\",categories= Sum_df.index,ordered=True)\n",
    "\n",
    "#----------------------------图6-1-4堆积面积图.(a) 堆积面积图--------------------------------\n",
    "base_plot=(ggplot(melt_df, aes(x ='Date', y = 'value',fill='variable',group='variable') )+\n",
    "  geom_area(position=\"stack\",alpha=1)+\n",
    "  geom_line(position=\"stack\",size=0.25,color=\"black\")+\n",
    "  scale_x_date(date_labels = \"%Y\",date_breaks = \"2 year\")+\n",
    "  scale_fill_hue(s = 0.99, l = 0.65, h=0.0417,color_space='husl')+\n",
    "  xlab(\"Year\")+\n",
    "  ylab(\"Value\")+\n",
    "    theme(\n",
    "        figure_size = (6, 5),\n",
    "        dpi = 100))\n",
    "\n",
    "print(base_plot)\n",
    "#base_plot.save(\"堆积面积图.pdf\")\n",
    "\n",
    "#-----------------------------图6-1-4堆积面积图.  (b)百分比堆积面积图.----------------------------------\n",
    "\n",
    "df=pd.read_csv('StackedArea_Data.csv')\n",
    "\n",
    "df['Date']=[datetime.strptime(d, '%Y/%m/%d').date() for d in df['Date']]\n",
    "\n",
    "SumRow_df=df.iloc[:,1:].apply(lambda x: x.sum(), axis=1)\n",
    "df.iloc[:,1:]=df.iloc[:,1:].apply(lambda x: x/SumRow_df, axis=0)\n",
    "meanCol_df=df.iloc[:,1:].apply(lambda x: x.mean(), axis=0).sort_values(ascending=True)\n",
    "melt_df=pd.melt(df,id_vars=[\"Date\"],var_name='variable',value_name='value')\n",
    "melt_df['variable']=melt_df['variable'].astype(\"category\",categories= meanCol_df.index,ordered=True)\n",
    "\n",
    "\n",
    "base_plot=(ggplot(melt_df, aes(x ='Date', y = 'value',fill='variable',group='variable') )+\n",
    "  geom_area(position=\"fill\",alpha=1)+\n",
    "  geom_line(position=\"fill\",size=0.25,color=\"black\")+\n",
    "  scale_x_date(date_labels = \"%Y\",date_breaks = \"2 year\")+\n",
    "  scale_fill_hue(s = 0.99, l = 0.65, h=0.0417,color_space='husl')+\n",
    "  xlab(\"Year\")+\n",
    "  ylab(\"Value\")+\n",
    "  theme(\n",
    "        figure_size = (6, 5),\n",
    "        dpi = 100))\n",
    "\n",
    "print(base_plot)\n",
    "#base_plot.save(\"堆积面积图2.pdf\")"
   ]
  }
 ],
 "metadata": {
  "kernelspec": {
   "display_name": "Python 3",
   "language": "python",
   "name": "python3"
  },
  "language_info": {
   "codemirror_mode": {
    "name": "ipython",
    "version": 2
   },
   "file_extension": ".py",
   "mimetype": "text/x-python",
   "name": "python",
   "nbconvert_exporter": "python",
   "pygments_lexer": "ipython2",
   "version": "2.7.6"
  }
 },
 "nbformat": 4,
 "nbformat_minor": 0
}