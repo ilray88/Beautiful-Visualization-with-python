{
 "cells": [
  {
   "cell_type": "code",
   "execution_count": null,
   "metadata": {
    "collapsed": true
   },
   "outputs": [],
   "source": [
    "# -*- coding: utf-8 -*-\n",
    "\"\"\"\n",
    "Created on Sat Nov 30 20:11:15 2019\n",
    "\n",
    "@author: Jie Zhang，微信公众号【EasyShu】，本代码源自《Python数据可视化之美》\n",
    "\"\"\"\n",
    "import seaborn as sns\n",
    "import pandas as pd\n",
    "import matplotlib.pyplot as plt\n",
    "from datetime import datetime\n",
    "\n",
    "#-----------------------------------(a) 堆积面积图--------------------------------------------\n",
    "#from matplotlib.ticker import FormatDateFormatter\n",
    "df=pd.read_csv('StackedArea_Data.csv',index_col =0)\n",
    "df.index=[datetime.strptime(d, '%Y/%m/%d').date() for d in df.index]\n",
    "\n",
    "Sum_df=df.apply(lambda x: x.sum(), axis=0).sort_values(ascending=False)\n",
    "\n",
    "df=df[Sum_df.index]\n",
    "\n",
    "columns=df.columns\n",
    "\n",
    "colors= sns.husl_palette(len(columns),h=15/360, l=.65, s=1).as_hex()\n",
    "\n",
    "fig =plt.figure(figsize=(5,4), dpi=100)\n",
    "plt.stackplot(df.index.values,\n",
    "              df.values.T,alpha=1, labels=columns, linewidth=1,edgecolor ='k',colors=colors)\n",
    "\n",
    "plt.xlabel(\"Year\")\n",
    "plt.ylabel(\"Value\")\n",
    "plt.legend(title=\"group\",loc=\"center right\",bbox_to_anchor=(1.5, 0, 0, 1),edgecolor='none',facecolor='none')\n",
    "#plt.gca().xaxis.set_major_formatter(FormatDateFormatter('%Y'))\n",
    "#ax=plt.gca()\n",
    "#ax.xaxis.set_major_locator(mdates.MonthLocator(interval=24))\n",
    "plt.show()\n",
    "\n",
    "#---------------------------------(b)百分比堆积面积图---------------------------------------------\n",
    "df=pd.read_csv('StackedArea_Data.csv',index_col =0)\n",
    "df.index=[datetime.strptime(d, '%Y/%m/%d').date() for d in df.index]\n",
    "SumRow_df=df.apply(lambda x: x.sum(), axis=1)\n",
    "df=df.apply(lambda x: x/SumRow_df, axis=0)\n",
    "meanCol_df=df.apply(lambda x: x.mean(), axis=0).sort_values(ascending=False)\n",
    "df=df[meanCol_df.index]\n",
    "columns=df.columns\n",
    "\n",
    "colors= sns.husl_palette(len(columns),h=15/360, l=.65, s=1).as_hex()\n",
    "\n",
    "fig =plt.figure(figsize=(5,4), dpi=100)\n",
    "plt.stackplot(df.index.values, df.values.T,labels=columns,colors=colors,\n",
    "              linewidth=1,edgecolor ='k')\n",
    "\n",
    "plt.xlabel(\"Year\")\n",
    "plt.ylabel(\"Value\")\n",
    "plt.gca().set_yticklabels(['{:.0f}%'.format(x*100) for x in plt.gca().get_yticks()])\n",
    "plt.legend(title=\"group\",loc=\"center right\",bbox_to_anchor=(1.5, 0, 0, 1),edgecolor='none',facecolor='none')\n",
    "\n",
    "plt.show()"
   ]
  }
 ],
 "metadata": {
  "kernelspec": {
   "display_name": "Python 3",
   "language": "python",
   "name": "python3"
  },
  "language_info": {
   "codemirror_mode": {
    "name": "ipython",
    "version": 2
   },
   "file_extension": ".py",
   "mimetype": "text/x-python",
   "name": "python",
   "nbconvert_exporter": "python",
   "pygments_lexer": "ipython2",
   "version": "2.7.6"
  }
 },
 "nbformat": 4,
 "nbformat_minor": 0
}